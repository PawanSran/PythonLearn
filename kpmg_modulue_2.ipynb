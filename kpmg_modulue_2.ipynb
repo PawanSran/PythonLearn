{
  "nbformat": 4,
  "nbformat_minor": 0,
  "metadata": {
    "colab": {
      "name": "kpmg_modulue_2.ipynb",
      "provenance": [],
      "collapsed_sections": [],
      "authorship_tag": "ABX9TyOXI7glbf898OJMKXZYeRjE",
      "include_colab_link": true
    },
    "kernelspec": {
      "name": "python3",
      "display_name": "Python 3"
    }
  },
  "cells": [
    {
      "cell_type": "markdown",
      "metadata": {
        "id": "view-in-github",
        "colab_type": "text"
      },
      "source": [
        "<a href=\"https://colab.research.google.com/github/PawanSran/PythonLearn/blob/master/kpmg_modulue_2.ipynb\" target=\"_parent\"><img src=\"https://colab.research.google.com/assets/colab-badge.svg\" alt=\"Open In Colab\"/></a>"
      ]
    },
    {
      "cell_type": "code",
      "metadata": {
        "id": "83ez0qFJP9Cx",
        "colab_type": "code",
        "colab": {
          "base_uri": "https://localhost:8080/",
          "height": 122
        },
        "outputId": "3244d33d-e7c9-414f-f47f-4e289d6f4fb3"
      },
      "source": [
        "from google.colab import drive\n",
        "drive.mount('/content/drive')"
      ],
      "execution_count": null,
      "outputs": [
        {
          "output_type": "stream",
          "text": [
            "Go to this URL in a browser: https://accounts.google.com/o/oauth2/auth?client_id=947318989803-6bn6qk8qdgf4n4g3pfee6491hc0brc4i.apps.googleusercontent.com&redirect_uri=urn%3aietf%3awg%3aoauth%3a2.0%3aoob&scope=email%20https%3a%2f%2fwww.googleapis.com%2fauth%2fdocs.test%20https%3a%2f%2fwww.googleapis.com%2fauth%2fdrive%20https%3a%2f%2fwww.googleapis.com%2fauth%2fdrive.photos.readonly%20https%3a%2f%2fwww.googleapis.com%2fauth%2fpeopleapi.readonly&response_type=code\n",
            "\n",
            "Enter your authorization code:\n",
            "··········\n",
            "Mounted at /content/drive\n"
          ],
          "name": "stdout"
        }
      ]
    },
    {
      "cell_type": "code",
      "metadata": {
        "id": "jQHs5MqOSIfu",
        "colab_type": "code",
        "colab": {}
      },
      "source": [
        "import pandas as pd"
      ],
      "execution_count": null,
      "outputs": []
    },
    {
      "cell_type": "code",
      "metadata": {
        "id": "mIHh-nXEQC_Q",
        "colab_type": "code",
        "colab": {}
      },
      "source": [
        "TrainRawPath = \"/content/drive/My Drive/KPMG/train_data.csv\"\n",
        "TestRawPath = \"/content/drive/My Drive/KPMG/test_data.csv\""
      ],
      "execution_count": null,
      "outputs": []
    },
    {
      "cell_type": "code",
      "metadata": {
        "id": "qSxbGTrPQN0Q",
        "colab_type": "code",
        "colab": {}
      },
      "source": [
        "train_data = pd.read_csv(TrainRawPath, header='infer')\n",
        "test_data = pd.read_csv(TestRawPath, header='infer')\n"
      ],
      "execution_count": null,
      "outputs": []
    },
    {
      "cell_type": "code",
      "metadata": {
        "id": "vFvOqFkXQRbg",
        "colab_type": "code",
        "colab": {
          "base_uri": "https://localhost:8080/",
          "height": 694
        },
        "outputId": "ef223136-61d5-45bf-ce29-a8adffc527ad"
      },
      "source": [
        "train_data"
      ],
      "execution_count": null,
      "outputs": [
        {
          "output_type": "execute_result",
          "data": {
            "text/html": [
              "<div>\n",
              "<style scoped>\n",
              "    .dataframe tbody tr th:only-of-type {\n",
              "        vertical-align: middle;\n",
              "    }\n",
              "\n",
              "    .dataframe tbody tr th {\n",
              "        vertical-align: top;\n",
              "    }\n",
              "\n",
              "    .dataframe thead th {\n",
              "        text-align: right;\n",
              "    }\n",
              "</style>\n",
              "<table border=\"1\" class=\"dataframe\">\n",
              "  <thead>\n",
              "    <tr style=\"text-align: right;\">\n",
              "      <th></th>\n",
              "      <th>transaction_id</th>\n",
              "      <th>product_id</th>\n",
              "      <th>customer_id</th>\n",
              "      <th>transaction_date</th>\n",
              "      <th>online_order</th>\n",
              "      <th>order_status</th>\n",
              "      <th>brand</th>\n",
              "      <th>product_line</th>\n",
              "      <th>product_class</th>\n",
              "      <th>product_size</th>\n",
              "      <th>list_price</th>\n",
              "      <th>standard_cost</th>\n",
              "      <th>product_first_sold_date</th>\n",
              "      <th>gender</th>\n",
              "      <th>past_3_years_bike_related_purchases</th>\n",
              "      <th>DOB</th>\n",
              "      <th>AGE</th>\n",
              "      <th>job_title</th>\n",
              "      <th>job_industry_category</th>\n",
              "      <th>wealth_segment</th>\n",
              "      <th>deceased_indicator</th>\n",
              "      <th>owns_car</th>\n",
              "      <th>tenure</th>\n",
              "      <th>address</th>\n",
              "      <th>postcode</th>\n",
              "      <th>state</th>\n",
              "      <th>country</th>\n",
              "      <th>property_valuation</th>\n",
              "    </tr>\n",
              "  </thead>\n",
              "  <tbody>\n",
              "    <tr>\n",
              "      <th>0</th>\n",
              "      <td>94.0</td>\n",
              "      <td>86.0</td>\n",
              "      <td>1.0</td>\n",
              "      <td>12/23/17</td>\n",
              "      <td>False</td>\n",
              "      <td>Approved</td>\n",
              "      <td>OHM Cycles</td>\n",
              "      <td>Standard</td>\n",
              "      <td>medium</td>\n",
              "      <td>medium</td>\n",
              "      <td>235.63</td>\n",
              "      <td>125.07</td>\n",
              "      <td>5/10/05</td>\n",
              "      <td>Female</td>\n",
              "      <td>93.0</td>\n",
              "      <td>10/12/53</td>\n",
              "      <td>66.0</td>\n",
              "      <td>Executive Secretary</td>\n",
              "      <td>Health</td>\n",
              "      <td>Mass Customer</td>\n",
              "      <td>N</td>\n",
              "      <td>Yes</td>\n",
              "      <td>11.0</td>\n",
              "      <td>060 Morning Avenue</td>\n",
              "      <td>2016.0</td>\n",
              "      <td>NSW</td>\n",
              "      <td>Australia</td>\n",
              "      <td>10.0</td>\n",
              "    </tr>\n",
              "    <tr>\n",
              "      <th>1</th>\n",
              "      <td>3765.0</td>\n",
              "      <td>38.0</td>\n",
              "      <td>1.0</td>\n",
              "      <td>4/6/17</td>\n",
              "      <td>True</td>\n",
              "      <td>Approved</td>\n",
              "      <td>Solex</td>\n",
              "      <td>Standard</td>\n",
              "      <td>medium</td>\n",
              "      <td>medium</td>\n",
              "      <td>1577.53</td>\n",
              "      <td>826.51</td>\n",
              "      <td>3/19/08</td>\n",
              "      <td>Female</td>\n",
              "      <td>93.0</td>\n",
              "      <td>10/12/53</td>\n",
              "      <td>66.0</td>\n",
              "      <td>Executive Secretary</td>\n",
              "      <td>Health</td>\n",
              "      <td>Mass Customer</td>\n",
              "      <td>N</td>\n",
              "      <td>Yes</td>\n",
              "      <td>11.0</td>\n",
              "      <td>060 Morning Avenue</td>\n",
              "      <td>2016.0</td>\n",
              "      <td>NSW</td>\n",
              "      <td>Australia</td>\n",
              "      <td>10.0</td>\n",
              "    </tr>\n",
              "    <tr>\n",
              "      <th>2</th>\n",
              "      <td>5157.0</td>\n",
              "      <td>47.0</td>\n",
              "      <td>1.0</td>\n",
              "      <td>5/11/17</td>\n",
              "      <td>True</td>\n",
              "      <td>Approved</td>\n",
              "      <td>Trek Bicycles</td>\n",
              "      <td>Road</td>\n",
              "      <td>low</td>\n",
              "      <td>small</td>\n",
              "      <td>1720.70</td>\n",
              "      <td>1531.42</td>\n",
              "      <td>7/21/03</td>\n",
              "      <td>Female</td>\n",
              "      <td>93.0</td>\n",
              "      <td>10/12/53</td>\n",
              "      <td>66.0</td>\n",
              "      <td>Executive Secretary</td>\n",
              "      <td>Health</td>\n",
              "      <td>Mass Customer</td>\n",
              "      <td>N</td>\n",
              "      <td>Yes</td>\n",
              "      <td>11.0</td>\n",
              "      <td>060 Morning Avenue</td>\n",
              "      <td>2016.0</td>\n",
              "      <td>NSW</td>\n",
              "      <td>Australia</td>\n",
              "      <td>10.0</td>\n",
              "    </tr>\n",
              "    <tr>\n",
              "      <th>3</th>\n",
              "      <td>9785.0</td>\n",
              "      <td>72.0</td>\n",
              "      <td>1.0</td>\n",
              "      <td>1/5/17</td>\n",
              "      <td>False</td>\n",
              "      <td>Approved</td>\n",
              "      <td>Norco Bicycles</td>\n",
              "      <td>Standard</td>\n",
              "      <td>medium</td>\n",
              "      <td>medium</td>\n",
              "      <td>360.40</td>\n",
              "      <td>270.30</td>\n",
              "      <td>9/9/03</td>\n",
              "      <td>Female</td>\n",
              "      <td>93.0</td>\n",
              "      <td>10/12/53</td>\n",
              "      <td>66.0</td>\n",
              "      <td>Executive Secretary</td>\n",
              "      <td>Health</td>\n",
              "      <td>Mass Customer</td>\n",
              "      <td>N</td>\n",
              "      <td>Yes</td>\n",
              "      <td>11.0</td>\n",
              "      <td>060 Morning Avenue</td>\n",
              "      <td>2016.0</td>\n",
              "      <td>NSW</td>\n",
              "      <td>Australia</td>\n",
              "      <td>10.0</td>\n",
              "    </tr>\n",
              "    <tr>\n",
              "      <th>4</th>\n",
              "      <td>13424.0</td>\n",
              "      <td>2.0</td>\n",
              "      <td>1.0</td>\n",
              "      <td>2/21/17</td>\n",
              "      <td>False</td>\n",
              "      <td>Approved</td>\n",
              "      <td>Solex</td>\n",
              "      <td>Standard</td>\n",
              "      <td>medium</td>\n",
              "      <td>medium</td>\n",
              "      <td>71.49</td>\n",
              "      <td>53.62</td>\n",
              "      <td>8/9/05</td>\n",
              "      <td>Female</td>\n",
              "      <td>93.0</td>\n",
              "      <td>10/12/53</td>\n",
              "      <td>66.0</td>\n",
              "      <td>Executive Secretary</td>\n",
              "      <td>Health</td>\n",
              "      <td>Mass Customer</td>\n",
              "      <td>N</td>\n",
              "      <td>Yes</td>\n",
              "      <td>11.0</td>\n",
              "      <td>060 Morning Avenue</td>\n",
              "      <td>2016.0</td>\n",
              "      <td>NSW</td>\n",
              "      <td>Australia</td>\n",
              "      <td>10.0</td>\n",
              "    </tr>\n",
              "    <tr>\n",
              "      <th>...</th>\n",
              "      <td>...</td>\n",
              "      <td>...</td>\n",
              "      <td>...</td>\n",
              "      <td>...</td>\n",
              "      <td>...</td>\n",
              "      <td>...</td>\n",
              "      <td>...</td>\n",
              "      <td>...</td>\n",
              "      <td>...</td>\n",
              "      <td>...</td>\n",
              "      <td>...</td>\n",
              "      <td>...</td>\n",
              "      <td>...</td>\n",
              "      <td>...</td>\n",
              "      <td>...</td>\n",
              "      <td>...</td>\n",
              "      <td>...</td>\n",
              "      <td>...</td>\n",
              "      <td>...</td>\n",
              "      <td>...</td>\n",
              "      <td>...</td>\n",
              "      <td>...</td>\n",
              "      <td>...</td>\n",
              "      <td>...</td>\n",
              "      <td>...</td>\n",
              "      <td>...</td>\n",
              "      <td>...</td>\n",
              "      <td>...</td>\n",
              "    </tr>\n",
              "    <tr>\n",
              "      <th>19996</th>\n",
              "      <td>2463.0</td>\n",
              "      <td>2.0</td>\n",
              "      <td>3500.0</td>\n",
              "      <td>4/25/17</td>\n",
              "      <td>False</td>\n",
              "      <td>Approved</td>\n",
              "      <td>Solex</td>\n",
              "      <td>Standard</td>\n",
              "      <td>medium</td>\n",
              "      <td>medium</td>\n",
              "      <td>71.49</td>\n",
              "      <td>53.62</td>\n",
              "      <td>12/2/12</td>\n",
              "      <td>Female</td>\n",
              "      <td>71.0</td>\n",
              "      <td>7/21/67</td>\n",
              "      <td>53.0</td>\n",
              "      <td>NaN</td>\n",
              "      <td>Entertainment</td>\n",
              "      <td>Affluent Customer</td>\n",
              "      <td>N</td>\n",
              "      <td>No</td>\n",
              "      <td>17.0</td>\n",
              "      <td>9491 Green Ridge Terrace</td>\n",
              "      <td>2100.0</td>\n",
              "      <td>NSW</td>\n",
              "      <td>Australia</td>\n",
              "      <td>10.0</td>\n",
              "    </tr>\n",
              "    <tr>\n",
              "      <th>19997</th>\n",
              "      <td>8708.0</td>\n",
              "      <td>0.0</td>\n",
              "      <td>5034.0</td>\n",
              "      <td>10/7/17</td>\n",
              "      <td>False</td>\n",
              "      <td>Approved</td>\n",
              "      <td>Solex</td>\n",
              "      <td>Road</td>\n",
              "      <td>medium</td>\n",
              "      <td>medium</td>\n",
              "      <td>416.98</td>\n",
              "      <td>312.74</td>\n",
              "      <td>8/2/15</td>\n",
              "      <td>NaN</td>\n",
              "      <td>NaN</td>\n",
              "      <td>NaN</td>\n",
              "      <td>NaN</td>\n",
              "      <td>NaN</td>\n",
              "      <td>NaN</td>\n",
              "      <td>NaN</td>\n",
              "      <td>NaN</td>\n",
              "      <td>NaN</td>\n",
              "      <td>NaN</td>\n",
              "      <td>NaN</td>\n",
              "      <td>NaN</td>\n",
              "      <td>NaN</td>\n",
              "      <td>NaN</td>\n",
              "      <td>NaN</td>\n",
              "    </tr>\n",
              "    <tr>\n",
              "      <th>19998</th>\n",
              "      <td>16701.0</td>\n",
              "      <td>0.0</td>\n",
              "      <td>5034.0</td>\n",
              "      <td>1/27/17</td>\n",
              "      <td>False</td>\n",
              "      <td>Approved</td>\n",
              "      <td>Norco Bicycles</td>\n",
              "      <td>Standard</td>\n",
              "      <td>medium</td>\n",
              "      <td>medium</td>\n",
              "      <td>360.40</td>\n",
              "      <td>270.30</td>\n",
              "      <td>8/25/97</td>\n",
              "      <td>NaN</td>\n",
              "      <td>NaN</td>\n",
              "      <td>NaN</td>\n",
              "      <td>NaN</td>\n",
              "      <td>NaN</td>\n",
              "      <td>NaN</td>\n",
              "      <td>NaN</td>\n",
              "      <td>NaN</td>\n",
              "      <td>NaN</td>\n",
              "      <td>NaN</td>\n",
              "      <td>NaN</td>\n",
              "      <td>NaN</td>\n",
              "      <td>NaN</td>\n",
              "      <td>NaN</td>\n",
              "      <td>NaN</td>\n",
              "    </tr>\n",
              "    <tr>\n",
              "      <th>19999</th>\n",
              "      <td>17469.0</td>\n",
              "      <td>0.0</td>\n",
              "      <td>5034.0</td>\n",
              "      <td>1/3/17</td>\n",
              "      <td>False</td>\n",
              "      <td>Approved</td>\n",
              "      <td>OHM Cycles</td>\n",
              "      <td>Road</td>\n",
              "      <td>medium</td>\n",
              "      <td>medium</td>\n",
              "      <td>742.54</td>\n",
              "      <td>667.40</td>\n",
              "      <td>10/2/92</td>\n",
              "      <td>NaN</td>\n",
              "      <td>NaN</td>\n",
              "      <td>NaN</td>\n",
              "      <td>NaN</td>\n",
              "      <td>NaN</td>\n",
              "      <td>NaN</td>\n",
              "      <td>NaN</td>\n",
              "      <td>NaN</td>\n",
              "      <td>NaN</td>\n",
              "      <td>NaN</td>\n",
              "      <td>NaN</td>\n",
              "      <td>NaN</td>\n",
              "      <td>NaN</td>\n",
              "      <td>NaN</td>\n",
              "      <td>NaN</td>\n",
              "    </tr>\n",
              "    <tr>\n",
              "      <th>20000</th>\n",
              "      <td>NaN</td>\n",
              "      <td>NaN</td>\n",
              "      <td>NaN</td>\n",
              "      <td>NaN</td>\n",
              "      <td>NaN</td>\n",
              "      <td>NaN</td>\n",
              "      <td>NaN</td>\n",
              "      <td>NaN</td>\n",
              "      <td>NaN</td>\n",
              "      <td>NaN</td>\n",
              "      <td>NaN</td>\n",
              "      <td>NaN</td>\n",
              "      <td>NaN</td>\n",
              "      <td>NaN</td>\n",
              "      <td>NaN</td>\n",
              "      <td>NaN</td>\n",
              "      <td>NaN</td>\n",
              "      <td>NaN</td>\n",
              "      <td>NaN</td>\n",
              "      <td>NaN</td>\n",
              "      <td>NaN</td>\n",
              "      <td>NaN</td>\n",
              "      <td>NaN</td>\n",
              "      <td>NaN</td>\n",
              "      <td>NaN</td>\n",
              "      <td>NaN</td>\n",
              "      <td>NaN</td>\n",
              "      <td>NaN</td>\n",
              "    </tr>\n",
              "  </tbody>\n",
              "</table>\n",
              "<p>20001 rows × 28 columns</p>\n",
              "</div>"
            ],
            "text/plain": [
              "       transaction_id  product_id  ...    country property_valuation\n",
              "0                94.0        86.0  ...  Australia               10.0\n",
              "1              3765.0        38.0  ...  Australia               10.0\n",
              "2              5157.0        47.0  ...  Australia               10.0\n",
              "3              9785.0        72.0  ...  Australia               10.0\n",
              "4             13424.0         2.0  ...  Australia               10.0\n",
              "...               ...         ...  ...        ...                ...\n",
              "19996          2463.0         2.0  ...  Australia               10.0\n",
              "19997          8708.0         0.0  ...        NaN                NaN\n",
              "19998         16701.0         0.0  ...        NaN                NaN\n",
              "19999         17469.0         0.0  ...        NaN                NaN\n",
              "20000             NaN         NaN  ...        NaN                NaN\n",
              "\n",
              "[20001 rows x 28 columns]"
            ]
          },
          "metadata": {
            "tags": []
          },
          "execution_count": 5
        }
      ]
    },
    {
      "cell_type": "code",
      "metadata": {
        "id": "c8o5p11oQXBh",
        "colab_type": "code",
        "colab": {
          "base_uri": "https://localhost:8080/",
          "height": 34
        },
        "outputId": "300d50b8-74e4-403c-b326-2502dcb454a9"
      },
      "source": [
        "train_data.shape"
      ],
      "execution_count": null,
      "outputs": [
        {
          "output_type": "execute_result",
          "data": {
            "text/plain": [
              "(20001, 28)"
            ]
          },
          "metadata": {
            "tags": []
          },
          "execution_count": 6
        }
      ]
    },
    {
      "cell_type": "code",
      "metadata": {
        "id": "k3tFXFsQScN5",
        "colab_type": "code",
        "colab": {
          "base_uri": "https://localhost:8080/",
          "height": 317
        },
        "outputId": "bb080caf-59ed-436f-d16c-8cdb89596240"
      },
      "source": [
        "train_data.describe()"
      ],
      "execution_count": null,
      "outputs": [
        {
          "output_type": "execute_result",
          "data": {
            "text/html": [
              "<div>\n",
              "<style scoped>\n",
              "    .dataframe tbody tr th:only-of-type {\n",
              "        vertical-align: middle;\n",
              "    }\n",
              "\n",
              "    .dataframe tbody tr th {\n",
              "        vertical-align: top;\n",
              "    }\n",
              "\n",
              "    .dataframe thead th {\n",
              "        text-align: right;\n",
              "    }\n",
              "</style>\n",
              "<table border=\"1\" class=\"dataframe\">\n",
              "  <thead>\n",
              "    <tr style=\"text-align: right;\">\n",
              "      <th></th>\n",
              "      <th>transaction_id</th>\n",
              "      <th>product_id</th>\n",
              "      <th>customer_id</th>\n",
              "      <th>list_price</th>\n",
              "      <th>standard_cost</th>\n",
              "      <th>past_3_years_bike_related_purchases</th>\n",
              "      <th>AGE</th>\n",
              "      <th>tenure</th>\n",
              "      <th>postcode</th>\n",
              "      <th>property_valuation</th>\n",
              "    </tr>\n",
              "  </thead>\n",
              "  <tbody>\n",
              "    <tr>\n",
              "      <th>count</th>\n",
              "      <td>20000.000000</td>\n",
              "      <td>20000.00000</td>\n",
              "      <td>20000.000000</td>\n",
              "      <td>20000.000000</td>\n",
              "      <td>19803.000000</td>\n",
              "      <td>19997.000000</td>\n",
              "      <td>19997.000000</td>\n",
              "      <td>19997.000000</td>\n",
              "      <td>19968.000000</td>\n",
              "      <td>19968.000000</td>\n",
              "    </tr>\n",
              "    <tr>\n",
              "      <th>mean</th>\n",
              "      <td>10000.500000</td>\n",
              "      <td>45.36465</td>\n",
              "      <td>1738.246050</td>\n",
              "      <td>1107.829449</td>\n",
              "      <td>556.046951</td>\n",
              "      <td>48.772466</td>\n",
              "      <td>44.256889</td>\n",
              "      <td>10.444967</td>\n",
              "      <td>2987.623347</td>\n",
              "      <td>7.516376</td>\n",
              "    </tr>\n",
              "    <tr>\n",
              "      <th>std</th>\n",
              "      <td>5773.647028</td>\n",
              "      <td>30.75359</td>\n",
              "      <td>1011.951046</td>\n",
              "      <td>582.825242</td>\n",
              "      <td>405.955659</td>\n",
              "      <td>28.598250</td>\n",
              "      <td>17.000399</td>\n",
              "      <td>5.830243</td>\n",
              "      <td>851.306647</td>\n",
              "      <td>2.824783</td>\n",
              "    </tr>\n",
              "    <tr>\n",
              "      <th>min</th>\n",
              "      <td>1.000000</td>\n",
              "      <td>0.00000</td>\n",
              "      <td>1.000000</td>\n",
              "      <td>12.010000</td>\n",
              "      <td>7.210000</td>\n",
              "      <td>0.000000</td>\n",
              "      <td>18.000000</td>\n",
              "      <td>0.000000</td>\n",
              "      <td>2000.000000</td>\n",
              "      <td>1.000000</td>\n",
              "    </tr>\n",
              "    <tr>\n",
              "      <th>25%</th>\n",
              "      <td>5000.750000</td>\n",
              "      <td>18.00000</td>\n",
              "      <td>857.750000</td>\n",
              "      <td>575.270000</td>\n",
              "      <td>215.140000</td>\n",
              "      <td>24.000000</td>\n",
              "      <td>33.000000</td>\n",
              "      <td>6.000000</td>\n",
              "      <td>2200.000000</td>\n",
              "      <td>6.000000</td>\n",
              "    </tr>\n",
              "    <tr>\n",
              "      <th>50%</th>\n",
              "      <td>10000.500000</td>\n",
              "      <td>44.00000</td>\n",
              "      <td>1736.000000</td>\n",
              "      <td>1163.890000</td>\n",
              "      <td>507.580000</td>\n",
              "      <td>48.000000</td>\n",
              "      <td>43.000000</td>\n",
              "      <td>10.000000</td>\n",
              "      <td>2767.000000</td>\n",
              "      <td>8.000000</td>\n",
              "    </tr>\n",
              "    <tr>\n",
              "      <th>75%</th>\n",
              "      <td>15000.250000</td>\n",
              "      <td>72.00000</td>\n",
              "      <td>2613.000000</td>\n",
              "      <td>1635.300000</td>\n",
              "      <td>795.100000</td>\n",
              "      <td>73.000000</td>\n",
              "      <td>53.000000</td>\n",
              "      <td>15.000000</td>\n",
              "      <td>3754.000000</td>\n",
              "      <td>10.000000</td>\n",
              "    </tr>\n",
              "    <tr>\n",
              "      <th>max</th>\n",
              "      <td>20000.000000</td>\n",
              "      <td>100.00000</td>\n",
              "      <td>5034.000000</td>\n",
              "      <td>2091.470000</td>\n",
              "      <td>1759.850000</td>\n",
              "      <td>99.000000</td>\n",
              "      <td>120.000000</td>\n",
              "      <td>22.000000</td>\n",
              "      <td>4883.000000</td>\n",
              "      <td>12.000000</td>\n",
              "    </tr>\n",
              "  </tbody>\n",
              "</table>\n",
              "</div>"
            ],
            "text/plain": [
              "       transaction_id   product_id  ...      postcode  property_valuation\n",
              "count    20000.000000  20000.00000  ...  19968.000000        19968.000000\n",
              "mean     10000.500000     45.36465  ...   2987.623347            7.516376\n",
              "std       5773.647028     30.75359  ...    851.306647            2.824783\n",
              "min          1.000000      0.00000  ...   2000.000000            1.000000\n",
              "25%       5000.750000     18.00000  ...   2200.000000            6.000000\n",
              "50%      10000.500000     44.00000  ...   2767.000000            8.000000\n",
              "75%      15000.250000     72.00000  ...   3754.000000           10.000000\n",
              "max      20000.000000    100.00000  ...   4883.000000           12.000000\n",
              "\n",
              "[8 rows x 10 columns]"
            ]
          },
          "metadata": {
            "tags": []
          },
          "execution_count": 7
        }
      ]
    },
    {
      "cell_type": "code",
      "metadata": {
        "id": "_5UJPY5ZUbx7",
        "colab_type": "code",
        "colab": {
          "base_uri": "https://localhost:8080/",
          "height": 510
        },
        "outputId": "09666e04-395a-4316-b31b-cf135a3b1788"
      },
      "source": [
        "train_data.isna().sum()"
      ],
      "execution_count": null,
      "outputs": [
        {
          "output_type": "execute_result",
          "data": {
            "text/plain": [
              "transaction_id                            1\n",
              "product_id                                1\n",
              "customer_id                               1\n",
              "transaction_date                          1\n",
              "online_order                            361\n",
              "order_status                              1\n",
              "brand                                   198\n",
              "product_line                            198\n",
              "product_class                           198\n",
              "product_size                            198\n",
              "list_price                                1\n",
              "standard_cost                           198\n",
              "product_first_sold_date                 198\n",
              "gender                                    4\n",
              "past_3_years_bike_related_purchases       4\n",
              "DOB                                     459\n",
              "AGE                                       4\n",
              "job_title                              2398\n",
              "job_industry_category                  3233\n",
              "wealth_segment                            4\n",
              "deceased_indicator                        4\n",
              "owns_car                                  4\n",
              "tenure                                    4\n",
              "address                                  33\n",
              "postcode                                 33\n",
              "state                                    33\n",
              "country                                  33\n",
              "property_valuation                       33\n",
              "dtype: int64"
            ]
          },
          "metadata": {
            "tags": []
          },
          "execution_count": 8
        }
      ]
    },
    {
      "cell_type": "code",
      "metadata": {
        "id": "8z33GUJsU0C9",
        "colab_type": "code",
        "colab": {
          "base_uri": "https://localhost:8080/",
          "height": 68
        },
        "outputId": "3aaa26ce-2d8e-4dbc-9fa1-8029a5ae1404"
      },
      "source": [
        "train_data['deceased_indicator'].value_counts()"
      ],
      "execution_count": null,
      "outputs": [
        {
          "output_type": "execute_result",
          "data": {
            "text/plain": [
              "N    19989\n",
              "Y        8\n",
              "Name: deceased_indicator, dtype: int64"
            ]
          },
          "metadata": {
            "tags": []
          },
          "execution_count": 9
        }
      ]
    },
    {
      "cell_type": "code",
      "metadata": {
        "id": "vk7_MOyUVM79",
        "colab_type": "code",
        "colab": {}
      },
      "source": [
        "train_data = train_data[train_data['deceased_indicator'] != 'Y']"
      ],
      "execution_count": null,
      "outputs": []
    },
    {
      "cell_type": "code",
      "metadata": {
        "id": "0FdrFLzdWdW8",
        "colab_type": "code",
        "colab": {
          "base_uri": "https://localhost:8080/",
          "height": 51
        },
        "outputId": "738c34d9-4ece-43db-f01a-3cce8518e18d"
      },
      "source": [
        "train_data['deceased_indicator'].value_counts()"
      ],
      "execution_count": null,
      "outputs": [
        {
          "output_type": "execute_result",
          "data": {
            "text/plain": [
              "N    19989\n",
              "Name: deceased_indicator, dtype: int64"
            ]
          },
          "metadata": {
            "tags": []
          },
          "execution_count": 11
        }
      ]
    },
    {
      "cell_type": "code",
      "metadata": {
        "id": "Nfv0CLDaWlHX",
        "colab_type": "code",
        "colab": {
          "base_uri": "https://localhost:8080/",
          "height": 510
        },
        "outputId": "6947a522-9bb9-419b-d9f8-461a4044ed9a"
      },
      "source": [
        "train_data.dtypes"
      ],
      "execution_count": null,
      "outputs": [
        {
          "output_type": "execute_result",
          "data": {
            "text/plain": [
              "transaction_id                         float64\n",
              "product_id                             float64\n",
              "customer_id                            float64\n",
              "transaction_date                        object\n",
              "online_order                            object\n",
              "order_status                            object\n",
              "brand                                   object\n",
              "product_line                            object\n",
              "product_class                           object\n",
              "product_size                            object\n",
              "list_price                             float64\n",
              "standard_cost                          float64\n",
              "product_first_sold_date                 object\n",
              "gender                                  object\n",
              "past_3_years_bike_related_purchases    float64\n",
              "DOB                                     object\n",
              "AGE                                    float64\n",
              "job_title                               object\n",
              "job_industry_category                   object\n",
              "wealth_segment                          object\n",
              "deceased_indicator                      object\n",
              "owns_car                                object\n",
              "tenure                                 float64\n",
              "address                                 object\n",
              "postcode                               float64\n",
              "state                                   object\n",
              "country                                 object\n",
              "property_valuation                     float64\n",
              "dtype: object"
            ]
          },
          "metadata": {
            "tags": []
          },
          "execution_count": 12
        }
      ]
    },
    {
      "cell_type": "code",
      "metadata": {
        "id": "uH6nmLOsWs9z",
        "colab_type": "code",
        "colab": {
          "base_uri": "https://localhost:8080/",
          "height": 238
        },
        "outputId": "ec8bfa54-6021-4261-e08b-30b04d3db859"
      },
      "source": [
        "train_data['online_order'].value_counts()\n",
        "train_data['property_valuation'].value_counts()"
      ],
      "execution_count": null,
      "outputs": [
        {
          "output_type": "execute_result",
          "data": {
            "text/plain": [
              "8.0     3342\n",
              "9.0     3260\n",
              "10.0    2850\n",
              "7.0     2371\n",
              "11.0    1396\n",
              "6.0     1181\n",
              "5.0     1130\n",
              "4.0     1070\n",
              "12.0     971\n",
              "3.0      895\n",
              "1.0      807\n",
              "2.0      687\n",
              "Name: property_valuation, dtype: int64"
            ]
          },
          "metadata": {
            "tags": []
          },
          "execution_count": 16
        }
      ]
    },
    {
      "cell_type": "code",
      "metadata": {
        "id": "HsVbW_5XXGLX",
        "colab_type": "code",
        "colab": {}
      },
      "source": [
        "#df = train_data[train_data['brand'].notna()]"
      ],
      "execution_count": null,
      "outputs": []
    },
    {
      "cell_type": "code",
      "metadata": {
        "id": "A6beYghMgbvf",
        "colab_type": "code",
        "colab": {}
      },
      "source": [
        "df.dtypes\n",
        "convert_types={'postcode':object,'property_valuation':object, 'DOB': str}\n",
        "\n",
        "df=df.astype(convert_types)\n"
      ],
      "execution_count": null,
      "outputs": []
    },
    {
      "cell_type": "code",
      "metadata": {
        "id": "_CigzBthZJUr",
        "colab_type": "code",
        "colab": {
          "base_uri": "https://localhost:8080/",
          "height": 917
        },
        "outputId": "c6bb7976-57e2-43d9-9828-d8ef172c619e"
      },
      "source": [
        "pd.concat([df.dtypes , df.isna().sum()], axis=1)"
      ],
      "execution_count": null,
      "outputs": [
        {
          "output_type": "execute_result",
          "data": {
            "text/html": [
              "<div>\n",
              "<style scoped>\n",
              "    .dataframe tbody tr th:only-of-type {\n",
              "        vertical-align: middle;\n",
              "    }\n",
              "\n",
              "    .dataframe tbody tr th {\n",
              "        vertical-align: top;\n",
              "    }\n",
              "\n",
              "    .dataframe thead th {\n",
              "        text-align: right;\n",
              "    }\n",
              "</style>\n",
              "<table border=\"1\" class=\"dataframe\">\n",
              "  <thead>\n",
              "    <tr style=\"text-align: right;\">\n",
              "      <th></th>\n",
              "      <th>0</th>\n",
              "      <th>1</th>\n",
              "    </tr>\n",
              "  </thead>\n",
              "  <tbody>\n",
              "    <tr>\n",
              "      <th>transaction_id</th>\n",
              "      <td>float64</td>\n",
              "      <td>0</td>\n",
              "    </tr>\n",
              "    <tr>\n",
              "      <th>product_id</th>\n",
              "      <td>float64</td>\n",
              "      <td>0</td>\n",
              "    </tr>\n",
              "    <tr>\n",
              "      <th>customer_id</th>\n",
              "      <td>float64</td>\n",
              "      <td>0</td>\n",
              "    </tr>\n",
              "    <tr>\n",
              "      <th>transaction_date</th>\n",
              "      <td>object</td>\n",
              "      <td>0</td>\n",
              "    </tr>\n",
              "    <tr>\n",
              "      <th>online_order</th>\n",
              "      <td>object</td>\n",
              "      <td>358</td>\n",
              "    </tr>\n",
              "    <tr>\n",
              "      <th>order_status</th>\n",
              "      <td>object</td>\n",
              "      <td>0</td>\n",
              "    </tr>\n",
              "    <tr>\n",
              "      <th>brand</th>\n",
              "      <td>object</td>\n",
              "      <td>0</td>\n",
              "    </tr>\n",
              "    <tr>\n",
              "      <th>product_line</th>\n",
              "      <td>object</td>\n",
              "      <td>0</td>\n",
              "    </tr>\n",
              "    <tr>\n",
              "      <th>product_class</th>\n",
              "      <td>object</td>\n",
              "      <td>0</td>\n",
              "    </tr>\n",
              "    <tr>\n",
              "      <th>product_size</th>\n",
              "      <td>object</td>\n",
              "      <td>0</td>\n",
              "    </tr>\n",
              "    <tr>\n",
              "      <th>list_price</th>\n",
              "      <td>float64</td>\n",
              "      <td>0</td>\n",
              "    </tr>\n",
              "    <tr>\n",
              "      <th>standard_cost</th>\n",
              "      <td>float64</td>\n",
              "      <td>0</td>\n",
              "    </tr>\n",
              "    <tr>\n",
              "      <th>product_first_sold_date</th>\n",
              "      <td>object</td>\n",
              "      <td>0</td>\n",
              "    </tr>\n",
              "    <tr>\n",
              "      <th>gender</th>\n",
              "      <td>object</td>\n",
              "      <td>3</td>\n",
              "    </tr>\n",
              "    <tr>\n",
              "      <th>past_3_years_bike_related_purchases</th>\n",
              "      <td>float64</td>\n",
              "      <td>3</td>\n",
              "    </tr>\n",
              "    <tr>\n",
              "      <th>DOB</th>\n",
              "      <td>object</td>\n",
              "      <td>0</td>\n",
              "    </tr>\n",
              "    <tr>\n",
              "      <th>AGE</th>\n",
              "      <td>float64</td>\n",
              "      <td>3</td>\n",
              "    </tr>\n",
              "    <tr>\n",
              "      <th>job_title</th>\n",
              "      <td>object</td>\n",
              "      <td>2367</td>\n",
              "    </tr>\n",
              "    <tr>\n",
              "      <th>job_industry_category</th>\n",
              "      <td>object</td>\n",
              "      <td>3201</td>\n",
              "    </tr>\n",
              "    <tr>\n",
              "      <th>wealth_segment</th>\n",
              "      <td>object</td>\n",
              "      <td>3</td>\n",
              "    </tr>\n",
              "    <tr>\n",
              "      <th>deceased_indicator</th>\n",
              "      <td>object</td>\n",
              "      <td>3</td>\n",
              "    </tr>\n",
              "    <tr>\n",
              "      <th>owns_car</th>\n",
              "      <td>object</td>\n",
              "      <td>3</td>\n",
              "    </tr>\n",
              "    <tr>\n",
              "      <th>tenure</th>\n",
              "      <td>float64</td>\n",
              "      <td>3</td>\n",
              "    </tr>\n",
              "    <tr>\n",
              "      <th>address</th>\n",
              "      <td>object</td>\n",
              "      <td>30</td>\n",
              "    </tr>\n",
              "    <tr>\n",
              "      <th>postcode</th>\n",
              "      <td>object</td>\n",
              "      <td>30</td>\n",
              "    </tr>\n",
              "    <tr>\n",
              "      <th>state</th>\n",
              "      <td>object</td>\n",
              "      <td>30</td>\n",
              "    </tr>\n",
              "    <tr>\n",
              "      <th>country</th>\n",
              "      <td>object</td>\n",
              "      <td>30</td>\n",
              "    </tr>\n",
              "    <tr>\n",
              "      <th>property_valuation</th>\n",
              "      <td>object</td>\n",
              "      <td>30</td>\n",
              "    </tr>\n",
              "  </tbody>\n",
              "</table>\n",
              "</div>"
            ],
            "text/plain": [
              "                                           0     1\n",
              "transaction_id                       float64     0\n",
              "product_id                           float64     0\n",
              "customer_id                          float64     0\n",
              "transaction_date                      object     0\n",
              "online_order                          object   358\n",
              "order_status                          object     0\n",
              "brand                                 object     0\n",
              "product_line                          object     0\n",
              "product_class                         object     0\n",
              "product_size                          object     0\n",
              "list_price                           float64     0\n",
              "standard_cost                        float64     0\n",
              "product_first_sold_date               object     0\n",
              "gender                                object     3\n",
              "past_3_years_bike_related_purchases  float64     3\n",
              "DOB                                   object     0\n",
              "AGE                                  float64     3\n",
              "job_title                             object  2367\n",
              "job_industry_category                 object  3201\n",
              "wealth_segment                        object     3\n",
              "deceased_indicator                    object     3\n",
              "owns_car                              object     3\n",
              "tenure                               float64     3\n",
              "address                               object    30\n",
              "postcode                              object    30\n",
              "state                                 object    30\n",
              "country                               object    30\n",
              "property_valuation                    object    30"
            ]
          },
          "metadata": {
            "tags": []
          },
          "execution_count": 18
        }
      ]
    },
    {
      "cell_type": "code",
      "metadata": {
        "id": "Sm3TcZHeZPj3",
        "colab_type": "code",
        "colab": {
          "base_uri": "https://localhost:8080/",
          "height": 119
        },
        "outputId": "4c3ba305-e7b3-4581-ad8e-56bbb25fb4b0"
      },
      "source": [
        "import numpy as np\n",
        "\n",
        "df_object = df.select_dtypes(include='object').fillna(\"Not_Applicable\")\n",
        "df_float = df.select_dtypes(include='float64')\n",
        "df_int = df.select_dtypes(include='int64')\n",
        "\n",
        "for i in df_float:\n",
        "   df_float[i] = df_float[i].fillna(np.nanmedian(df_float[i]))\n",
        "\n",
        "df_final = pd.concat([df_int, df_object, df_float], axis = 1)"
      ],
      "execution_count": null,
      "outputs": [
        {
          "output_type": "stream",
          "text": [
            "/usr/local/lib/python3.6/dist-packages/ipykernel_launcher.py:8: SettingWithCopyWarning: \n",
            "A value is trying to be set on a copy of a slice from a DataFrame.\n",
            "Try using .loc[row_indexer,col_indexer] = value instead\n",
            "\n",
            "See the caveats in the documentation: https://pandas.pydata.org/pandas-docs/stable/user_guide/indexing.html#returning-a-view-versus-a-copy\n",
            "  \n"
          ],
          "name": "stderr"
        }
      ]
    },
    {
      "cell_type": "code",
      "metadata": {
        "id": "yao2kwxbmvxW",
        "colab_type": "code",
        "colab": {
          "base_uri": "https://localhost:8080/",
          "height": 745
        },
        "outputId": "28edb638-be7b-4664-d7ec-63f9ec5c2275"
      },
      "source": [
        "df"
      ],
      "execution_count": null,
      "outputs": [
        {
          "output_type": "execute_result",
          "data": {
            "text/html": [
              "<div>\n",
              "<style scoped>\n",
              "    .dataframe tbody tr th:only-of-type {\n",
              "        vertical-align: middle;\n",
              "    }\n",
              "\n",
              "    .dataframe tbody tr th {\n",
              "        vertical-align: top;\n",
              "    }\n",
              "\n",
              "    .dataframe thead th {\n",
              "        text-align: right;\n",
              "    }\n",
              "</style>\n",
              "<table border=\"1\" class=\"dataframe\">\n",
              "  <thead>\n",
              "    <tr style=\"text-align: right;\">\n",
              "      <th></th>\n",
              "      <th>transaction_id</th>\n",
              "      <th>product_id</th>\n",
              "      <th>customer_id</th>\n",
              "      <th>transaction_date</th>\n",
              "      <th>online_order</th>\n",
              "      <th>order_status</th>\n",
              "      <th>brand</th>\n",
              "      <th>product_line</th>\n",
              "      <th>product_class</th>\n",
              "      <th>product_size</th>\n",
              "      <th>list_price</th>\n",
              "      <th>standard_cost</th>\n",
              "      <th>product_first_sold_date</th>\n",
              "      <th>gender</th>\n",
              "      <th>past_3_years_bike_related_purchases</th>\n",
              "      <th>DOB</th>\n",
              "      <th>AGE</th>\n",
              "      <th>job_title</th>\n",
              "      <th>job_industry_category</th>\n",
              "      <th>wealth_segment</th>\n",
              "      <th>deceased_indicator</th>\n",
              "      <th>owns_car</th>\n",
              "      <th>tenure</th>\n",
              "      <th>address</th>\n",
              "      <th>postcode</th>\n",
              "      <th>state</th>\n",
              "      <th>country</th>\n",
              "      <th>property_valuation</th>\n",
              "    </tr>\n",
              "  </thead>\n",
              "  <tbody>\n",
              "    <tr>\n",
              "      <th>0</th>\n",
              "      <td>94.0</td>\n",
              "      <td>86.0</td>\n",
              "      <td>1.0</td>\n",
              "      <td>12/23/17</td>\n",
              "      <td>False</td>\n",
              "      <td>Approved</td>\n",
              "      <td>OHM Cycles</td>\n",
              "      <td>Standard</td>\n",
              "      <td>medium</td>\n",
              "      <td>medium</td>\n",
              "      <td>235.63</td>\n",
              "      <td>125.07</td>\n",
              "      <td>5/10/05</td>\n",
              "      <td>Female</td>\n",
              "      <td>93.0</td>\n",
              "      <td>10/12/53</td>\n",
              "      <td>66.0</td>\n",
              "      <td>Executive Secretary</td>\n",
              "      <td>Health</td>\n",
              "      <td>Mass Customer</td>\n",
              "      <td>N</td>\n",
              "      <td>Yes</td>\n",
              "      <td>11.0</td>\n",
              "      <td>060 Morning Avenue</td>\n",
              "      <td>2016</td>\n",
              "      <td>NSW</td>\n",
              "      <td>Australia</td>\n",
              "      <td>10</td>\n",
              "    </tr>\n",
              "    <tr>\n",
              "      <th>1</th>\n",
              "      <td>3765.0</td>\n",
              "      <td>38.0</td>\n",
              "      <td>1.0</td>\n",
              "      <td>4/6/17</td>\n",
              "      <td>True</td>\n",
              "      <td>Approved</td>\n",
              "      <td>Solex</td>\n",
              "      <td>Standard</td>\n",
              "      <td>medium</td>\n",
              "      <td>medium</td>\n",
              "      <td>1577.53</td>\n",
              "      <td>826.51</td>\n",
              "      <td>3/19/08</td>\n",
              "      <td>Female</td>\n",
              "      <td>93.0</td>\n",
              "      <td>10/12/53</td>\n",
              "      <td>66.0</td>\n",
              "      <td>Executive Secretary</td>\n",
              "      <td>Health</td>\n",
              "      <td>Mass Customer</td>\n",
              "      <td>N</td>\n",
              "      <td>Yes</td>\n",
              "      <td>11.0</td>\n",
              "      <td>060 Morning Avenue</td>\n",
              "      <td>2016</td>\n",
              "      <td>NSW</td>\n",
              "      <td>Australia</td>\n",
              "      <td>10</td>\n",
              "    </tr>\n",
              "    <tr>\n",
              "      <th>2</th>\n",
              "      <td>5157.0</td>\n",
              "      <td>47.0</td>\n",
              "      <td>1.0</td>\n",
              "      <td>5/11/17</td>\n",
              "      <td>True</td>\n",
              "      <td>Approved</td>\n",
              "      <td>Trek Bicycles</td>\n",
              "      <td>Road</td>\n",
              "      <td>low</td>\n",
              "      <td>small</td>\n",
              "      <td>1720.70</td>\n",
              "      <td>1531.42</td>\n",
              "      <td>7/21/03</td>\n",
              "      <td>Female</td>\n",
              "      <td>93.0</td>\n",
              "      <td>10/12/53</td>\n",
              "      <td>66.0</td>\n",
              "      <td>Executive Secretary</td>\n",
              "      <td>Health</td>\n",
              "      <td>Mass Customer</td>\n",
              "      <td>N</td>\n",
              "      <td>Yes</td>\n",
              "      <td>11.0</td>\n",
              "      <td>060 Morning Avenue</td>\n",
              "      <td>2016</td>\n",
              "      <td>NSW</td>\n",
              "      <td>Australia</td>\n",
              "      <td>10</td>\n",
              "    </tr>\n",
              "    <tr>\n",
              "      <th>3</th>\n",
              "      <td>9785.0</td>\n",
              "      <td>72.0</td>\n",
              "      <td>1.0</td>\n",
              "      <td>1/5/17</td>\n",
              "      <td>False</td>\n",
              "      <td>Approved</td>\n",
              "      <td>Norco Bicycles</td>\n",
              "      <td>Standard</td>\n",
              "      <td>medium</td>\n",
              "      <td>medium</td>\n",
              "      <td>360.40</td>\n",
              "      <td>270.30</td>\n",
              "      <td>9/9/03</td>\n",
              "      <td>Female</td>\n",
              "      <td>93.0</td>\n",
              "      <td>10/12/53</td>\n",
              "      <td>66.0</td>\n",
              "      <td>Executive Secretary</td>\n",
              "      <td>Health</td>\n",
              "      <td>Mass Customer</td>\n",
              "      <td>N</td>\n",
              "      <td>Yes</td>\n",
              "      <td>11.0</td>\n",
              "      <td>060 Morning Avenue</td>\n",
              "      <td>2016</td>\n",
              "      <td>NSW</td>\n",
              "      <td>Australia</td>\n",
              "      <td>10</td>\n",
              "    </tr>\n",
              "    <tr>\n",
              "      <th>4</th>\n",
              "      <td>13424.0</td>\n",
              "      <td>2.0</td>\n",
              "      <td>1.0</td>\n",
              "      <td>2/21/17</td>\n",
              "      <td>False</td>\n",
              "      <td>Approved</td>\n",
              "      <td>Solex</td>\n",
              "      <td>Standard</td>\n",
              "      <td>medium</td>\n",
              "      <td>medium</td>\n",
              "      <td>71.49</td>\n",
              "      <td>53.62</td>\n",
              "      <td>8/9/05</td>\n",
              "      <td>Female</td>\n",
              "      <td>93.0</td>\n",
              "      <td>10/12/53</td>\n",
              "      <td>66.0</td>\n",
              "      <td>Executive Secretary</td>\n",
              "      <td>Health</td>\n",
              "      <td>Mass Customer</td>\n",
              "      <td>N</td>\n",
              "      <td>Yes</td>\n",
              "      <td>11.0</td>\n",
              "      <td>060 Morning Avenue</td>\n",
              "      <td>2016</td>\n",
              "      <td>NSW</td>\n",
              "      <td>Australia</td>\n",
              "      <td>10</td>\n",
              "    </tr>\n",
              "    <tr>\n",
              "      <th>...</th>\n",
              "      <td>...</td>\n",
              "      <td>...</td>\n",
              "      <td>...</td>\n",
              "      <td>...</td>\n",
              "      <td>...</td>\n",
              "      <td>...</td>\n",
              "      <td>...</td>\n",
              "      <td>...</td>\n",
              "      <td>...</td>\n",
              "      <td>...</td>\n",
              "      <td>...</td>\n",
              "      <td>...</td>\n",
              "      <td>...</td>\n",
              "      <td>...</td>\n",
              "      <td>...</td>\n",
              "      <td>...</td>\n",
              "      <td>...</td>\n",
              "      <td>...</td>\n",
              "      <td>...</td>\n",
              "      <td>...</td>\n",
              "      <td>...</td>\n",
              "      <td>...</td>\n",
              "      <td>...</td>\n",
              "      <td>...</td>\n",
              "      <td>...</td>\n",
              "      <td>...</td>\n",
              "      <td>...</td>\n",
              "      <td>...</td>\n",
              "    </tr>\n",
              "    <tr>\n",
              "      <th>19995</th>\n",
              "      <td>19836.0</td>\n",
              "      <td>40.0</td>\n",
              "      <td>3500.0</td>\n",
              "      <td>3/14/17</td>\n",
              "      <td>True</td>\n",
              "      <td>Approved</td>\n",
              "      <td>OHM Cycles</td>\n",
              "      <td>Standard</td>\n",
              "      <td>high</td>\n",
              "      <td>medium</td>\n",
              "      <td>1458.17</td>\n",
              "      <td>874.90</td>\n",
              "      <td>2/2/06</td>\n",
              "      <td>Female</td>\n",
              "      <td>71.0</td>\n",
              "      <td>7/21/67</td>\n",
              "      <td>53.0</td>\n",
              "      <td>NaN</td>\n",
              "      <td>Entertainment</td>\n",
              "      <td>Affluent Customer</td>\n",
              "      <td>N</td>\n",
              "      <td>No</td>\n",
              "      <td>17.0</td>\n",
              "      <td>9491 Green Ridge Terrace</td>\n",
              "      <td>2100</td>\n",
              "      <td>NSW</td>\n",
              "      <td>Australia</td>\n",
              "      <td>10</td>\n",
              "    </tr>\n",
              "    <tr>\n",
              "      <th>19996</th>\n",
              "      <td>2463.0</td>\n",
              "      <td>2.0</td>\n",
              "      <td>3500.0</td>\n",
              "      <td>4/25/17</td>\n",
              "      <td>False</td>\n",
              "      <td>Approved</td>\n",
              "      <td>Solex</td>\n",
              "      <td>Standard</td>\n",
              "      <td>medium</td>\n",
              "      <td>medium</td>\n",
              "      <td>71.49</td>\n",
              "      <td>53.62</td>\n",
              "      <td>12/2/12</td>\n",
              "      <td>Female</td>\n",
              "      <td>71.0</td>\n",
              "      <td>7/21/67</td>\n",
              "      <td>53.0</td>\n",
              "      <td>NaN</td>\n",
              "      <td>Entertainment</td>\n",
              "      <td>Affluent Customer</td>\n",
              "      <td>N</td>\n",
              "      <td>No</td>\n",
              "      <td>17.0</td>\n",
              "      <td>9491 Green Ridge Terrace</td>\n",
              "      <td>2100</td>\n",
              "      <td>NSW</td>\n",
              "      <td>Australia</td>\n",
              "      <td>10</td>\n",
              "    </tr>\n",
              "    <tr>\n",
              "      <th>19997</th>\n",
              "      <td>8708.0</td>\n",
              "      <td>0.0</td>\n",
              "      <td>5034.0</td>\n",
              "      <td>10/7/17</td>\n",
              "      <td>False</td>\n",
              "      <td>Approved</td>\n",
              "      <td>Solex</td>\n",
              "      <td>Road</td>\n",
              "      <td>medium</td>\n",
              "      <td>medium</td>\n",
              "      <td>416.98</td>\n",
              "      <td>312.74</td>\n",
              "      <td>8/2/15</td>\n",
              "      <td>NaN</td>\n",
              "      <td>NaN</td>\n",
              "      <td>nan</td>\n",
              "      <td>NaN</td>\n",
              "      <td>NaN</td>\n",
              "      <td>NaN</td>\n",
              "      <td>NaN</td>\n",
              "      <td>NaN</td>\n",
              "      <td>NaN</td>\n",
              "      <td>NaN</td>\n",
              "      <td>NaN</td>\n",
              "      <td>NaN</td>\n",
              "      <td>NaN</td>\n",
              "      <td>NaN</td>\n",
              "      <td>NaN</td>\n",
              "    </tr>\n",
              "    <tr>\n",
              "      <th>19998</th>\n",
              "      <td>16701.0</td>\n",
              "      <td>0.0</td>\n",
              "      <td>5034.0</td>\n",
              "      <td>1/27/17</td>\n",
              "      <td>False</td>\n",
              "      <td>Approved</td>\n",
              "      <td>Norco Bicycles</td>\n",
              "      <td>Standard</td>\n",
              "      <td>medium</td>\n",
              "      <td>medium</td>\n",
              "      <td>360.40</td>\n",
              "      <td>270.30</td>\n",
              "      <td>8/25/97</td>\n",
              "      <td>NaN</td>\n",
              "      <td>NaN</td>\n",
              "      <td>nan</td>\n",
              "      <td>NaN</td>\n",
              "      <td>NaN</td>\n",
              "      <td>NaN</td>\n",
              "      <td>NaN</td>\n",
              "      <td>NaN</td>\n",
              "      <td>NaN</td>\n",
              "      <td>NaN</td>\n",
              "      <td>NaN</td>\n",
              "      <td>NaN</td>\n",
              "      <td>NaN</td>\n",
              "      <td>NaN</td>\n",
              "      <td>NaN</td>\n",
              "    </tr>\n",
              "    <tr>\n",
              "      <th>19999</th>\n",
              "      <td>17469.0</td>\n",
              "      <td>0.0</td>\n",
              "      <td>5034.0</td>\n",
              "      <td>1/3/17</td>\n",
              "      <td>False</td>\n",
              "      <td>Approved</td>\n",
              "      <td>OHM Cycles</td>\n",
              "      <td>Road</td>\n",
              "      <td>medium</td>\n",
              "      <td>medium</td>\n",
              "      <td>742.54</td>\n",
              "      <td>667.40</td>\n",
              "      <td>10/2/92</td>\n",
              "      <td>NaN</td>\n",
              "      <td>NaN</td>\n",
              "      <td>nan</td>\n",
              "      <td>NaN</td>\n",
              "      <td>NaN</td>\n",
              "      <td>NaN</td>\n",
              "      <td>NaN</td>\n",
              "      <td>NaN</td>\n",
              "      <td>NaN</td>\n",
              "      <td>NaN</td>\n",
              "      <td>NaN</td>\n",
              "      <td>NaN</td>\n",
              "      <td>NaN</td>\n",
              "      <td>NaN</td>\n",
              "      <td>NaN</td>\n",
              "    </tr>\n",
              "  </tbody>\n",
              "</table>\n",
              "<p>19795 rows × 28 columns</p>\n",
              "</div>"
            ],
            "text/plain": [
              "       transaction_id  product_id  ...    country property_valuation\n",
              "0                94.0        86.0  ...  Australia                 10\n",
              "1              3765.0        38.0  ...  Australia                 10\n",
              "2              5157.0        47.0  ...  Australia                 10\n",
              "3              9785.0        72.0  ...  Australia                 10\n",
              "4             13424.0         2.0  ...  Australia                 10\n",
              "...               ...         ...  ...        ...                ...\n",
              "19995         19836.0        40.0  ...  Australia                 10\n",
              "19996          2463.0         2.0  ...  Australia                 10\n",
              "19997          8708.0         0.0  ...        NaN                NaN\n",
              "19998         16701.0         0.0  ...        NaN                NaN\n",
              "19999         17469.0         0.0  ...        NaN                NaN\n",
              "\n",
              "[19795 rows x 28 columns]"
            ]
          },
          "metadata": {
            "tags": []
          },
          "execution_count": 20
        }
      ]
    },
    {
      "cell_type": "code",
      "metadata": {
        "id": "y4GyoBQqbbLU",
        "colab_type": "code",
        "colab": {
          "base_uri": "https://localhost:8080/",
          "height": 510
        },
        "outputId": "e8dab40f-4602-4524-b66a-0cef6d7d8a20"
      },
      "source": [
        "df_final.isna().sum()"
      ],
      "execution_count": null,
      "outputs": [
        {
          "output_type": "execute_result",
          "data": {
            "text/plain": [
              "transaction_date                       0\n",
              "online_order                           0\n",
              "order_status                           0\n",
              "brand                                  0\n",
              "product_line                           0\n",
              "product_class                          0\n",
              "product_size                           0\n",
              "product_first_sold_date                0\n",
              "gender                                 0\n",
              "DOB                                    0\n",
              "job_title                              0\n",
              "job_industry_category                  0\n",
              "wealth_segment                         0\n",
              "deceased_indicator                     0\n",
              "owns_car                               0\n",
              "address                                0\n",
              "postcode                               0\n",
              "state                                  0\n",
              "country                                0\n",
              "property_valuation                     0\n",
              "transaction_id                         0\n",
              "product_id                             0\n",
              "customer_id                            0\n",
              "list_price                             0\n",
              "standard_cost                          0\n",
              "past_3_years_bike_related_purchases    0\n",
              "AGE                                    0\n",
              "tenure                                 0\n",
              "dtype: int64"
            ]
          },
          "metadata": {
            "tags": []
          },
          "execution_count": 21
        }
      ]
    },
    {
      "cell_type": "code",
      "metadata": {
        "id": "Cdhct1w2bdhI",
        "colab_type": "code",
        "colab": {
          "base_uri": "https://localhost:8080/",
          "height": 34
        },
        "outputId": "fabc034c-cf1e-4e27-9fa7-8f0e2158af12"
      },
      "source": [
        "df_final.shape"
      ],
      "execution_count": null,
      "outputs": [
        {
          "output_type": "execute_result",
          "data": {
            "text/plain": [
              "(19795, 28)"
            ]
          },
          "metadata": {
            "tags": []
          },
          "execution_count": 22
        }
      ]
    },
    {
      "cell_type": "code",
      "metadata": {
        "id": "omIwXwZMbmcf",
        "colab_type": "code",
        "colab": {}
      },
      "source": [
        "df_final['profit'] = df_final['list_price'] - df_final['standard_cost']"
      ],
      "execution_count": null,
      "outputs": []
    },
    {
      "cell_type": "code",
      "metadata": {
        "id": "H6PAdLtWc3rX",
        "colab_type": "code",
        "colab": {
          "base_uri": "https://localhost:8080/",
          "height": 34
        },
        "outputId": "15719024-667b-4411-83e8-3177892b1046"
      },
      "source": [
        "df_final.shape"
      ],
      "execution_count": null,
      "outputs": [
        {
          "output_type": "execute_result",
          "data": {
            "text/plain": [
              "(19795, 29)"
            ]
          },
          "metadata": {
            "tags": []
          },
          "execution_count": 24
        }
      ]
    },
    {
      "cell_type": "code",
      "metadata": {
        "id": "LN0ATdfAeFbQ",
        "colab_type": "code",
        "colab": {
          "base_uri": "https://localhost:8080/",
          "height": 592
        },
        "outputId": "10016b6c-b6cb-4627-9023-b08c17b06d2e"
      },
      "source": [
        "df_final"
      ],
      "execution_count": null,
      "outputs": [
        {
          "output_type": "execute_result",
          "data": {
            "text/html": [
              "<div>\n",
              "<style scoped>\n",
              "    .dataframe tbody tr th:only-of-type {\n",
              "        vertical-align: middle;\n",
              "    }\n",
              "\n",
              "    .dataframe tbody tr th {\n",
              "        vertical-align: top;\n",
              "    }\n",
              "\n",
              "    .dataframe thead th {\n",
              "        text-align: right;\n",
              "    }\n",
              "</style>\n",
              "<table border=\"1\" class=\"dataframe\">\n",
              "  <thead>\n",
              "    <tr style=\"text-align: right;\">\n",
              "      <th></th>\n",
              "      <th>transaction_date</th>\n",
              "      <th>online_order</th>\n",
              "      <th>order_status</th>\n",
              "      <th>brand</th>\n",
              "      <th>product_line</th>\n",
              "      <th>product_class</th>\n",
              "      <th>product_size</th>\n",
              "      <th>product_first_sold_date</th>\n",
              "      <th>gender</th>\n",
              "      <th>DOB</th>\n",
              "      <th>job_title</th>\n",
              "      <th>job_industry_category</th>\n",
              "      <th>wealth_segment</th>\n",
              "      <th>deceased_indicator</th>\n",
              "      <th>owns_car</th>\n",
              "      <th>address</th>\n",
              "      <th>postcode</th>\n",
              "      <th>state</th>\n",
              "      <th>country</th>\n",
              "      <th>property_valuation</th>\n",
              "      <th>transaction_id</th>\n",
              "      <th>product_id</th>\n",
              "      <th>customer_id</th>\n",
              "      <th>list_price</th>\n",
              "      <th>standard_cost</th>\n",
              "      <th>past_3_years_bike_related_purchases</th>\n",
              "      <th>AGE</th>\n",
              "      <th>tenure</th>\n",
              "      <th>profit</th>\n",
              "    </tr>\n",
              "  </thead>\n",
              "  <tbody>\n",
              "    <tr>\n",
              "      <th>0</th>\n",
              "      <td>12/23/17</td>\n",
              "      <td>False</td>\n",
              "      <td>Approved</td>\n",
              "      <td>OHM Cycles</td>\n",
              "      <td>Standard</td>\n",
              "      <td>medium</td>\n",
              "      <td>medium</td>\n",
              "      <td>5/10/05</td>\n",
              "      <td>Female</td>\n",
              "      <td>10/12/53</td>\n",
              "      <td>Executive Secretary</td>\n",
              "      <td>Health</td>\n",
              "      <td>Mass Customer</td>\n",
              "      <td>N</td>\n",
              "      <td>Yes</td>\n",
              "      <td>060 Morning Avenue</td>\n",
              "      <td>2016</td>\n",
              "      <td>NSW</td>\n",
              "      <td>Australia</td>\n",
              "      <td>10</td>\n",
              "      <td>94.0</td>\n",
              "      <td>86.0</td>\n",
              "      <td>1.0</td>\n",
              "      <td>235.63</td>\n",
              "      <td>125.07</td>\n",
              "      <td>93.0</td>\n",
              "      <td>66.0</td>\n",
              "      <td>11.0</td>\n",
              "      <td>110.56</td>\n",
              "    </tr>\n",
              "    <tr>\n",
              "      <th>1</th>\n",
              "      <td>4/6/17</td>\n",
              "      <td>True</td>\n",
              "      <td>Approved</td>\n",
              "      <td>Solex</td>\n",
              "      <td>Standard</td>\n",
              "      <td>medium</td>\n",
              "      <td>medium</td>\n",
              "      <td>3/19/08</td>\n",
              "      <td>Female</td>\n",
              "      <td>10/12/53</td>\n",
              "      <td>Executive Secretary</td>\n",
              "      <td>Health</td>\n",
              "      <td>Mass Customer</td>\n",
              "      <td>N</td>\n",
              "      <td>Yes</td>\n",
              "      <td>060 Morning Avenue</td>\n",
              "      <td>2016</td>\n",
              "      <td>NSW</td>\n",
              "      <td>Australia</td>\n",
              "      <td>10</td>\n",
              "      <td>3765.0</td>\n",
              "      <td>38.0</td>\n",
              "      <td>1.0</td>\n",
              "      <td>1577.53</td>\n",
              "      <td>826.51</td>\n",
              "      <td>93.0</td>\n",
              "      <td>66.0</td>\n",
              "      <td>11.0</td>\n",
              "      <td>751.02</td>\n",
              "    </tr>\n",
              "    <tr>\n",
              "      <th>2</th>\n",
              "      <td>5/11/17</td>\n",
              "      <td>True</td>\n",
              "      <td>Approved</td>\n",
              "      <td>Trek Bicycles</td>\n",
              "      <td>Road</td>\n",
              "      <td>low</td>\n",
              "      <td>small</td>\n",
              "      <td>7/21/03</td>\n",
              "      <td>Female</td>\n",
              "      <td>10/12/53</td>\n",
              "      <td>Executive Secretary</td>\n",
              "      <td>Health</td>\n",
              "      <td>Mass Customer</td>\n",
              "      <td>N</td>\n",
              "      <td>Yes</td>\n",
              "      <td>060 Morning Avenue</td>\n",
              "      <td>2016</td>\n",
              "      <td>NSW</td>\n",
              "      <td>Australia</td>\n",
              "      <td>10</td>\n",
              "      <td>5157.0</td>\n",
              "      <td>47.0</td>\n",
              "      <td>1.0</td>\n",
              "      <td>1720.70</td>\n",
              "      <td>1531.42</td>\n",
              "      <td>93.0</td>\n",
              "      <td>66.0</td>\n",
              "      <td>11.0</td>\n",
              "      <td>189.28</td>\n",
              "    </tr>\n",
              "    <tr>\n",
              "      <th>3</th>\n",
              "      <td>1/5/17</td>\n",
              "      <td>False</td>\n",
              "      <td>Approved</td>\n",
              "      <td>Norco Bicycles</td>\n",
              "      <td>Standard</td>\n",
              "      <td>medium</td>\n",
              "      <td>medium</td>\n",
              "      <td>9/9/03</td>\n",
              "      <td>Female</td>\n",
              "      <td>10/12/53</td>\n",
              "      <td>Executive Secretary</td>\n",
              "      <td>Health</td>\n",
              "      <td>Mass Customer</td>\n",
              "      <td>N</td>\n",
              "      <td>Yes</td>\n",
              "      <td>060 Morning Avenue</td>\n",
              "      <td>2016</td>\n",
              "      <td>NSW</td>\n",
              "      <td>Australia</td>\n",
              "      <td>10</td>\n",
              "      <td>9785.0</td>\n",
              "      <td>72.0</td>\n",
              "      <td>1.0</td>\n",
              "      <td>360.40</td>\n",
              "      <td>270.30</td>\n",
              "      <td>93.0</td>\n",
              "      <td>66.0</td>\n",
              "      <td>11.0</td>\n",
              "      <td>90.10</td>\n",
              "    </tr>\n",
              "    <tr>\n",
              "      <th>4</th>\n",
              "      <td>2/21/17</td>\n",
              "      <td>False</td>\n",
              "      <td>Approved</td>\n",
              "      <td>Solex</td>\n",
              "      <td>Standard</td>\n",
              "      <td>medium</td>\n",
              "      <td>medium</td>\n",
              "      <td>8/9/05</td>\n",
              "      <td>Female</td>\n",
              "      <td>10/12/53</td>\n",
              "      <td>Executive Secretary</td>\n",
              "      <td>Health</td>\n",
              "      <td>Mass Customer</td>\n",
              "      <td>N</td>\n",
              "      <td>Yes</td>\n",
              "      <td>060 Morning Avenue</td>\n",
              "      <td>2016</td>\n",
              "      <td>NSW</td>\n",
              "      <td>Australia</td>\n",
              "      <td>10</td>\n",
              "      <td>13424.0</td>\n",
              "      <td>2.0</td>\n",
              "      <td>1.0</td>\n",
              "      <td>71.49</td>\n",
              "      <td>53.62</td>\n",
              "      <td>93.0</td>\n",
              "      <td>66.0</td>\n",
              "      <td>11.0</td>\n",
              "      <td>17.87</td>\n",
              "    </tr>\n",
              "    <tr>\n",
              "      <th>...</th>\n",
              "      <td>...</td>\n",
              "      <td>...</td>\n",
              "      <td>...</td>\n",
              "      <td>...</td>\n",
              "      <td>...</td>\n",
              "      <td>...</td>\n",
              "      <td>...</td>\n",
              "      <td>...</td>\n",
              "      <td>...</td>\n",
              "      <td>...</td>\n",
              "      <td>...</td>\n",
              "      <td>...</td>\n",
              "      <td>...</td>\n",
              "      <td>...</td>\n",
              "      <td>...</td>\n",
              "      <td>...</td>\n",
              "      <td>...</td>\n",
              "      <td>...</td>\n",
              "      <td>...</td>\n",
              "      <td>...</td>\n",
              "      <td>...</td>\n",
              "      <td>...</td>\n",
              "      <td>...</td>\n",
              "      <td>...</td>\n",
              "      <td>...</td>\n",
              "      <td>...</td>\n",
              "      <td>...</td>\n",
              "      <td>...</td>\n",
              "      <td>...</td>\n",
              "    </tr>\n",
              "    <tr>\n",
              "      <th>19995</th>\n",
              "      <td>3/14/17</td>\n",
              "      <td>True</td>\n",
              "      <td>Approved</td>\n",
              "      <td>OHM Cycles</td>\n",
              "      <td>Standard</td>\n",
              "      <td>high</td>\n",
              "      <td>medium</td>\n",
              "      <td>2/2/06</td>\n",
              "      <td>Female</td>\n",
              "      <td>7/21/67</td>\n",
              "      <td>Not_Applicable</td>\n",
              "      <td>Entertainment</td>\n",
              "      <td>Affluent Customer</td>\n",
              "      <td>N</td>\n",
              "      <td>No</td>\n",
              "      <td>9491 Green Ridge Terrace</td>\n",
              "      <td>2100</td>\n",
              "      <td>NSW</td>\n",
              "      <td>Australia</td>\n",
              "      <td>10</td>\n",
              "      <td>19836.0</td>\n",
              "      <td>40.0</td>\n",
              "      <td>3500.0</td>\n",
              "      <td>1458.17</td>\n",
              "      <td>874.90</td>\n",
              "      <td>71.0</td>\n",
              "      <td>53.0</td>\n",
              "      <td>17.0</td>\n",
              "      <td>583.27</td>\n",
              "    </tr>\n",
              "    <tr>\n",
              "      <th>19996</th>\n",
              "      <td>4/25/17</td>\n",
              "      <td>False</td>\n",
              "      <td>Approved</td>\n",
              "      <td>Solex</td>\n",
              "      <td>Standard</td>\n",
              "      <td>medium</td>\n",
              "      <td>medium</td>\n",
              "      <td>12/2/12</td>\n",
              "      <td>Female</td>\n",
              "      <td>7/21/67</td>\n",
              "      <td>Not_Applicable</td>\n",
              "      <td>Entertainment</td>\n",
              "      <td>Affluent Customer</td>\n",
              "      <td>N</td>\n",
              "      <td>No</td>\n",
              "      <td>9491 Green Ridge Terrace</td>\n",
              "      <td>2100</td>\n",
              "      <td>NSW</td>\n",
              "      <td>Australia</td>\n",
              "      <td>10</td>\n",
              "      <td>2463.0</td>\n",
              "      <td>2.0</td>\n",
              "      <td>3500.0</td>\n",
              "      <td>71.49</td>\n",
              "      <td>53.62</td>\n",
              "      <td>71.0</td>\n",
              "      <td>53.0</td>\n",
              "      <td>17.0</td>\n",
              "      <td>17.87</td>\n",
              "    </tr>\n",
              "    <tr>\n",
              "      <th>19997</th>\n",
              "      <td>10/7/17</td>\n",
              "      <td>False</td>\n",
              "      <td>Approved</td>\n",
              "      <td>Solex</td>\n",
              "      <td>Road</td>\n",
              "      <td>medium</td>\n",
              "      <td>medium</td>\n",
              "      <td>8/2/15</td>\n",
              "      <td>Not_Applicable</td>\n",
              "      <td>nan</td>\n",
              "      <td>Not_Applicable</td>\n",
              "      <td>Not_Applicable</td>\n",
              "      <td>Not_Applicable</td>\n",
              "      <td>Not_Applicable</td>\n",
              "      <td>Not_Applicable</td>\n",
              "      <td>Not_Applicable</td>\n",
              "      <td>Not_Applicable</td>\n",
              "      <td>Not_Applicable</td>\n",
              "      <td>Not_Applicable</td>\n",
              "      <td>Not_Applicable</td>\n",
              "      <td>8708.0</td>\n",
              "      <td>0.0</td>\n",
              "      <td>5034.0</td>\n",
              "      <td>416.98</td>\n",
              "      <td>312.74</td>\n",
              "      <td>48.0</td>\n",
              "      <td>43.0</td>\n",
              "      <td>10.0</td>\n",
              "      <td>104.24</td>\n",
              "    </tr>\n",
              "    <tr>\n",
              "      <th>19998</th>\n",
              "      <td>1/27/17</td>\n",
              "      <td>False</td>\n",
              "      <td>Approved</td>\n",
              "      <td>Norco Bicycles</td>\n",
              "      <td>Standard</td>\n",
              "      <td>medium</td>\n",
              "      <td>medium</td>\n",
              "      <td>8/25/97</td>\n",
              "      <td>Not_Applicable</td>\n",
              "      <td>nan</td>\n",
              "      <td>Not_Applicable</td>\n",
              "      <td>Not_Applicable</td>\n",
              "      <td>Not_Applicable</td>\n",
              "      <td>Not_Applicable</td>\n",
              "      <td>Not_Applicable</td>\n",
              "      <td>Not_Applicable</td>\n",
              "      <td>Not_Applicable</td>\n",
              "      <td>Not_Applicable</td>\n",
              "      <td>Not_Applicable</td>\n",
              "      <td>Not_Applicable</td>\n",
              "      <td>16701.0</td>\n",
              "      <td>0.0</td>\n",
              "      <td>5034.0</td>\n",
              "      <td>360.40</td>\n",
              "      <td>270.30</td>\n",
              "      <td>48.0</td>\n",
              "      <td>43.0</td>\n",
              "      <td>10.0</td>\n",
              "      <td>90.10</td>\n",
              "    </tr>\n",
              "    <tr>\n",
              "      <th>19999</th>\n",
              "      <td>1/3/17</td>\n",
              "      <td>False</td>\n",
              "      <td>Approved</td>\n",
              "      <td>OHM Cycles</td>\n",
              "      <td>Road</td>\n",
              "      <td>medium</td>\n",
              "      <td>medium</td>\n",
              "      <td>10/2/92</td>\n",
              "      <td>Not_Applicable</td>\n",
              "      <td>nan</td>\n",
              "      <td>Not_Applicable</td>\n",
              "      <td>Not_Applicable</td>\n",
              "      <td>Not_Applicable</td>\n",
              "      <td>Not_Applicable</td>\n",
              "      <td>Not_Applicable</td>\n",
              "      <td>Not_Applicable</td>\n",
              "      <td>Not_Applicable</td>\n",
              "      <td>Not_Applicable</td>\n",
              "      <td>Not_Applicable</td>\n",
              "      <td>Not_Applicable</td>\n",
              "      <td>17469.0</td>\n",
              "      <td>0.0</td>\n",
              "      <td>5034.0</td>\n",
              "      <td>742.54</td>\n",
              "      <td>667.40</td>\n",
              "      <td>48.0</td>\n",
              "      <td>43.0</td>\n",
              "      <td>10.0</td>\n",
              "      <td>75.14</td>\n",
              "    </tr>\n",
              "  </tbody>\n",
              "</table>\n",
              "<p>19795 rows × 29 columns</p>\n",
              "</div>"
            ],
            "text/plain": [
              "      transaction_date online_order order_status  ...   AGE tenure  profit\n",
              "0             12/23/17        False     Approved  ...  66.0   11.0  110.56\n",
              "1               4/6/17         True     Approved  ...  66.0   11.0  751.02\n",
              "2              5/11/17         True     Approved  ...  66.0   11.0  189.28\n",
              "3               1/5/17        False     Approved  ...  66.0   11.0   90.10\n",
              "4              2/21/17        False     Approved  ...  66.0   11.0   17.87\n",
              "...                ...          ...          ...  ...   ...    ...     ...\n",
              "19995          3/14/17         True     Approved  ...  53.0   17.0  583.27\n",
              "19996          4/25/17        False     Approved  ...  53.0   17.0   17.87\n",
              "19997          10/7/17        False     Approved  ...  43.0   10.0  104.24\n",
              "19998          1/27/17        False     Approved  ...  43.0   10.0   90.10\n",
              "19999           1/3/17        False     Approved  ...  43.0   10.0   75.14\n",
              "\n",
              "[19795 rows x 29 columns]"
            ]
          },
          "metadata": {
            "tags": []
          },
          "execution_count": 25
        }
      ]
    },
    {
      "cell_type": "code",
      "metadata": {
        "id": "6wUwbOU1eGig",
        "colab_type": "code",
        "colab": {}
      },
      "source": [
        "grouped_out = df_final.groupby('customer_id').agg(\n",
        "    mean_list_price= pd.NamedAgg(column='list_price', aggfunc='mean'),\n",
        "    freq_transaction = pd.NamedAgg(column='transaction_id', aggfunc='count'),\n",
        "    tenure = pd.NamedAgg(column='tenure', aggfunc='max'),\n",
        "    profit = pd.NamedAgg(column='profit', aggfunc='sum')\n",
        ")"
      ],
      "execution_count": null,
      "outputs": []
    },
    {
      "cell_type": "code",
      "metadata": {
        "id": "FRUbDL4hfuTd",
        "colab_type": "code",
        "colab": {}
      },
      "source": [
        "grouped_out['c_id'] = grouped_out.index.values\n"
      ],
      "execution_count": null,
      "outputs": []
    },
    {
      "cell_type": "code",
      "metadata": {
        "id": "AsZ0s6mS5VAS",
        "colab_type": "code",
        "colab": {
          "base_uri": "https://localhost:8080/",
          "height": 450
        },
        "outputId": "e74f136f-8322-4bb0-dde4-bd6b9bad2980"
      },
      "source": [
        "grouped_out"
      ],
      "execution_count": null,
      "outputs": [
        {
          "output_type": "execute_result",
          "data": {
            "text/html": [
              "<div>\n",
              "<style scoped>\n",
              "    .dataframe tbody tr th:only-of-type {\n",
              "        vertical-align: middle;\n",
              "    }\n",
              "\n",
              "    .dataframe tbody tr th {\n",
              "        vertical-align: top;\n",
              "    }\n",
              "\n",
              "    .dataframe thead th {\n",
              "        text-align: right;\n",
              "    }\n",
              "</style>\n",
              "<table border=\"1\" class=\"dataframe\">\n",
              "  <thead>\n",
              "    <tr style=\"text-align: right;\">\n",
              "      <th></th>\n",
              "      <th>mean_list_price</th>\n",
              "      <th>freq_transaction</th>\n",
              "      <th>tenure</th>\n",
              "      <th>profit</th>\n",
              "      <th>c_id</th>\n",
              "    </tr>\n",
              "    <tr>\n",
              "      <th>customer_id</th>\n",
              "      <th></th>\n",
              "      <th></th>\n",
              "      <th></th>\n",
              "      <th></th>\n",
              "      <th></th>\n",
              "    </tr>\n",
              "  </thead>\n",
              "  <tbody>\n",
              "    <tr>\n",
              "      <th>1.0</th>\n",
              "      <td>825.859091</td>\n",
              "      <td>11</td>\n",
              "      <td>11.0</td>\n",
              "      <td>3018.09</td>\n",
              "      <td>1.0</td>\n",
              "    </tr>\n",
              "    <tr>\n",
              "      <th>2.0</th>\n",
              "      <td>1383.023333</td>\n",
              "      <td>3</td>\n",
              "      <td>16.0</td>\n",
              "      <td>2226.26</td>\n",
              "      <td>2.0</td>\n",
              "    </tr>\n",
              "    <tr>\n",
              "      <th>3.0</th>\n",
              "      <td>1236.028750</td>\n",
              "      <td>8</td>\n",
              "      <td>15.0</td>\n",
              "      <td>3362.81</td>\n",
              "      <td>3.0</td>\n",
              "    </tr>\n",
              "    <tr>\n",
              "      <th>4.0</th>\n",
              "      <td>523.860000</td>\n",
              "      <td>2</td>\n",
              "      <td>7.0</td>\n",
              "      <td>220.57</td>\n",
              "      <td>4.0</td>\n",
              "    </tr>\n",
              "    <tr>\n",
              "      <th>5.0</th>\n",
              "      <td>983.866667</td>\n",
              "      <td>6</td>\n",
              "      <td>8.0</td>\n",
              "      <td>2394.94</td>\n",
              "      <td>5.0</td>\n",
              "    </tr>\n",
              "    <tr>\n",
              "      <th>...</th>\n",
              "      <td>...</td>\n",
              "      <td>...</td>\n",
              "      <td>...</td>\n",
              "      <td>...</td>\n",
              "      <td>...</td>\n",
              "    </tr>\n",
              "    <tr>\n",
              "      <th>3497.0</th>\n",
              "      <td>1248.023333</td>\n",
              "      <td>3</td>\n",
              "      <td>18.0</td>\n",
              "      <td>1648.32</td>\n",
              "      <td>3497.0</td>\n",
              "    </tr>\n",
              "    <tr>\n",
              "      <th>3498.0</th>\n",
              "      <td>862.843333</td>\n",
              "      <td>6</td>\n",
              "      <td>5.0</td>\n",
              "      <td>3147.33</td>\n",
              "      <td>3498.0</td>\n",
              "    </tr>\n",
              "    <tr>\n",
              "      <th>3499.0</th>\n",
              "      <td>1096.211429</td>\n",
              "      <td>7</td>\n",
              "      <td>7.0</td>\n",
              "      <td>4955.25</td>\n",
              "      <td>3499.0</td>\n",
              "    </tr>\n",
              "    <tr>\n",
              "      <th>3500.0</th>\n",
              "      <td>820.401667</td>\n",
              "      <td>6</td>\n",
              "      <td>17.0</td>\n",
              "      <td>1785.86</td>\n",
              "      <td>3500.0</td>\n",
              "    </tr>\n",
              "    <tr>\n",
              "      <th>5034.0</th>\n",
              "      <td>506.640000</td>\n",
              "      <td>3</td>\n",
              "      <td>10.0</td>\n",
              "      <td>269.48</td>\n",
              "      <td>5034.0</td>\n",
              "    </tr>\n",
              "  </tbody>\n",
              "</table>\n",
              "<p>3493 rows × 5 columns</p>\n",
              "</div>"
            ],
            "text/plain": [
              "             mean_list_price  freq_transaction  tenure   profit    c_id\n",
              "customer_id                                                            \n",
              "1.0               825.859091                11    11.0  3018.09     1.0\n",
              "2.0              1383.023333                 3    16.0  2226.26     2.0\n",
              "3.0              1236.028750                 8    15.0  3362.81     3.0\n",
              "4.0               523.860000                 2     7.0   220.57     4.0\n",
              "5.0               983.866667                 6     8.0  2394.94     5.0\n",
              "...                      ...               ...     ...      ...     ...\n",
              "3497.0           1248.023333                 3    18.0  1648.32  3497.0\n",
              "3498.0            862.843333                 6     5.0  3147.33  3498.0\n",
              "3499.0           1096.211429                 7     7.0  4955.25  3499.0\n",
              "3500.0            820.401667                 6    17.0  1785.86  3500.0\n",
              "5034.0            506.640000                 3    10.0   269.48  5034.0\n",
              "\n",
              "[3493 rows x 5 columns]"
            ]
          },
          "metadata": {
            "tags": []
          },
          "execution_count": 28
        }
      ]
    },
    {
      "cell_type": "code",
      "metadata": {
        "id": "t_ZX1rRCfxcb",
        "colab_type": "code",
        "colab": {}
      },
      "source": [
        "total_profit = grouped_out['profit'].sum()"
      ],
      "execution_count": null,
      "outputs": []
    },
    {
      "cell_type": "code",
      "metadata": {
        "id": "qOwf1VnRhsq1",
        "colab_type": "code",
        "colab": {
          "base_uri": "https://localhost:8080/",
          "height": 34
        },
        "outputId": "889d56dd-c8da-4d74-b66b-2a3f4fd332ed"
      },
      "source": [
        "total_profit"
      ],
      "execution_count": null,
      "outputs": [
        {
          "output_type": "execute_result",
          "data": {
            "text/plain": [
              "10922556.79"
            ]
          },
          "metadata": {
            "tags": []
          },
          "execution_count": 30
        }
      ]
    },
    {
      "cell_type": "code",
      "metadata": {
        "id": "p_wa6qrchto_",
        "colab_type": "code",
        "colab": {}
      },
      "source": [
        "grouped_out['clv'] = (grouped_out['mean_list_price']* grouped_out['freq_transaction'] * grouped_out['tenure'] *grouped_out['profit']) / total_profit"
      ],
      "execution_count": null,
      "outputs": []
    },
    {
      "cell_type": "code",
      "metadata": {
        "id": "OxcqiiJBh_Lm",
        "colab_type": "code",
        "colab": {
          "base_uri": "https://localhost:8080/",
          "height": 450
        },
        "outputId": "666ade6e-543d-42ae-e385-0da02c8d7ef4"
      },
      "source": [
        "grouped_out"
      ],
      "execution_count": null,
      "outputs": [
        {
          "output_type": "execute_result",
          "data": {
            "text/html": [
              "<div>\n",
              "<style scoped>\n",
              "    .dataframe tbody tr th:only-of-type {\n",
              "        vertical-align: middle;\n",
              "    }\n",
              "\n",
              "    .dataframe tbody tr th {\n",
              "        vertical-align: top;\n",
              "    }\n",
              "\n",
              "    .dataframe thead th {\n",
              "        text-align: right;\n",
              "    }\n",
              "</style>\n",
              "<table border=\"1\" class=\"dataframe\">\n",
              "  <thead>\n",
              "    <tr style=\"text-align: right;\">\n",
              "      <th></th>\n",
              "      <th>mean_list_price</th>\n",
              "      <th>freq_transaction</th>\n",
              "      <th>tenure</th>\n",
              "      <th>profit</th>\n",
              "      <th>c_id</th>\n",
              "      <th>clv</th>\n",
              "    </tr>\n",
              "    <tr>\n",
              "      <th>customer_id</th>\n",
              "      <th></th>\n",
              "      <th></th>\n",
              "      <th></th>\n",
              "      <th></th>\n",
              "      <th></th>\n",
              "      <th></th>\n",
              "    </tr>\n",
              "  </thead>\n",
              "  <tbody>\n",
              "    <tr>\n",
              "      <th>1.0</th>\n",
              "      <td>825.859091</td>\n",
              "      <td>11</td>\n",
              "      <td>11.0</td>\n",
              "      <td>3018.09</td>\n",
              "      <td>1.0</td>\n",
              "      <td>27.612085</td>\n",
              "    </tr>\n",
              "    <tr>\n",
              "      <th>2.0</th>\n",
              "      <td>1383.023333</td>\n",
              "      <td>3</td>\n",
              "      <td>16.0</td>\n",
              "      <td>2226.26</td>\n",
              "      <td>2.0</td>\n",
              "      <td>13.530764</td>\n",
              "    </tr>\n",
              "    <tr>\n",
              "      <th>3.0</th>\n",
              "      <td>1236.028750</td>\n",
              "      <td>8</td>\n",
              "      <td>15.0</td>\n",
              "      <td>3362.81</td>\n",
              "      <td>3.0</td>\n",
              "      <td>45.665460</td>\n",
              "    </tr>\n",
              "    <tr>\n",
              "      <th>4.0</th>\n",
              "      <td>523.860000</td>\n",
              "      <td>2</td>\n",
              "      <td>7.0</td>\n",
              "      <td>220.57</td>\n",
              "      <td>4.0</td>\n",
              "      <td>0.148104</td>\n",
              "    </tr>\n",
              "    <tr>\n",
              "      <th>5.0</th>\n",
              "      <td>983.866667</td>\n",
              "      <td>6</td>\n",
              "      <td>8.0</td>\n",
              "      <td>2394.94</td>\n",
              "      <td>5.0</td>\n",
              "      <td>10.354945</td>\n",
              "    </tr>\n",
              "    <tr>\n",
              "      <th>...</th>\n",
              "      <td>...</td>\n",
              "      <td>...</td>\n",
              "      <td>...</td>\n",
              "      <td>...</td>\n",
              "      <td>...</td>\n",
              "      <td>...</td>\n",
              "    </tr>\n",
              "    <tr>\n",
              "      <th>3497.0</th>\n",
              "      <td>1248.023333</td>\n",
              "      <td>3</td>\n",
              "      <td>18.0</td>\n",
              "      <td>1648.32</td>\n",
              "      <td>3497.0</td>\n",
              "      <td>10.170298</td>\n",
              "    </tr>\n",
              "    <tr>\n",
              "      <th>3498.0</th>\n",
              "      <td>862.843333</td>\n",
              "      <td>6</td>\n",
              "      <td>5.0</td>\n",
              "      <td>3147.33</td>\n",
              "      <td>3498.0</td>\n",
              "      <td>7.458838</td>\n",
              "    </tr>\n",
              "    <tr>\n",
              "      <th>3499.0</th>\n",
              "      <td>1096.211429</td>\n",
              "      <td>7</td>\n",
              "      <td>7.0</td>\n",
              "      <td>4955.25</td>\n",
              "      <td>3499.0</td>\n",
              "      <td>24.368661</td>\n",
              "    </tr>\n",
              "    <tr>\n",
              "      <th>3500.0</th>\n",
              "      <td>820.401667</td>\n",
              "      <td>6</td>\n",
              "      <td>17.0</td>\n",
              "      <td>1785.86</td>\n",
              "      <td>3500.0</td>\n",
              "      <td>13.682007</td>\n",
              "    </tr>\n",
              "    <tr>\n",
              "      <th>5034.0</th>\n",
              "      <td>506.640000</td>\n",
              "      <td>3</td>\n",
              "      <td>10.0</td>\n",
              "      <td>269.48</td>\n",
              "      <td>5034.0</td>\n",
              "      <td>0.374993</td>\n",
              "    </tr>\n",
              "  </tbody>\n",
              "</table>\n",
              "<p>3493 rows × 6 columns</p>\n",
              "</div>"
            ],
            "text/plain": [
              "             mean_list_price  freq_transaction  ...    c_id        clv\n",
              "customer_id                                     ...                   \n",
              "1.0               825.859091                11  ...     1.0  27.612085\n",
              "2.0              1383.023333                 3  ...     2.0  13.530764\n",
              "3.0              1236.028750                 8  ...     3.0  45.665460\n",
              "4.0               523.860000                 2  ...     4.0   0.148104\n",
              "5.0               983.866667                 6  ...     5.0  10.354945\n",
              "...                      ...               ...  ...     ...        ...\n",
              "3497.0           1248.023333                 3  ...  3497.0  10.170298\n",
              "3498.0            862.843333                 6  ...  3498.0   7.458838\n",
              "3499.0           1096.211429                 7  ...  3499.0  24.368661\n",
              "3500.0            820.401667                 6  ...  3500.0  13.682007\n",
              "5034.0            506.640000                 3  ...  5034.0   0.374993\n",
              "\n",
              "[3493 rows x 6 columns]"
            ]
          },
          "metadata": {
            "tags": []
          },
          "execution_count": 32
        }
      ]
    },
    {
      "cell_type": "code",
      "metadata": {
        "id": "eVFKYQmDiLJx",
        "colab_type": "code",
        "colab": {
          "base_uri": "https://localhost:8080/",
          "height": 68
        },
        "outputId": "7f91afdf-10dd-45b0-e80d-9ea7d7acb997"
      },
      "source": [
        "#gender\tpast_3_years_bike_related_purchases\tDOB\tjob_title\tjob_industry_category\twealth_segment\tdeceased_indicator\towns_car\ttenure\taddress\tpostcode\tstate\tcountry\tproperty_valuation\n",
        "grouped_out.columns"
      ],
      "execution_count": null,
      "outputs": [
        {
          "output_type": "execute_result",
          "data": {
            "text/plain": [
              "Index(['mean_list_price', 'freq_transaction', 'tenure', 'profit', 'c_id',\n",
              "       'clv'],\n",
              "      dtype='object')"
            ]
          },
          "metadata": {
            "tags": []
          },
          "execution_count": 33
        }
      ]
    },
    {
      "cell_type": "code",
      "metadata": {
        "id": "N7kjzz2LlWY0",
        "colab_type": "code",
        "colab": {}
      },
      "source": [
        "data_1 = df_final[['gender','past_3_years_bike_related_purchases',\n",
        "                   'AGE','job_title','job_industry_category','wealth_segment',\n",
        "                   'owns_car','tenure','address','postcode',\n",
        "                   'state','country','property_valuation', 'customer_id']]\n",
        "                                              "
      ],
      "execution_count": null,
      "outputs": []
    },
    {
      "cell_type": "code",
      "metadata": {
        "id": "EPguw0F01ydJ",
        "colab_type": "code",
        "colab": {
          "base_uri": "https://localhost:8080/",
          "height": 558
        },
        "outputId": "8eeb1519-9a8b-44df-cd67-0ca2b745744b"
      },
      "source": [
        "data_1"
      ],
      "execution_count": null,
      "outputs": [
        {
          "output_type": "execute_result",
          "data": {
            "text/html": [
              "<div>\n",
              "<style scoped>\n",
              "    .dataframe tbody tr th:only-of-type {\n",
              "        vertical-align: middle;\n",
              "    }\n",
              "\n",
              "    .dataframe tbody tr th {\n",
              "        vertical-align: top;\n",
              "    }\n",
              "\n",
              "    .dataframe thead th {\n",
              "        text-align: right;\n",
              "    }\n",
              "</style>\n",
              "<table border=\"1\" class=\"dataframe\">\n",
              "  <thead>\n",
              "    <tr style=\"text-align: right;\">\n",
              "      <th></th>\n",
              "      <th>gender</th>\n",
              "      <th>past_3_years_bike_related_purchases</th>\n",
              "      <th>AGE</th>\n",
              "      <th>job_title</th>\n",
              "      <th>job_industry_category</th>\n",
              "      <th>wealth_segment</th>\n",
              "      <th>owns_car</th>\n",
              "      <th>tenure</th>\n",
              "      <th>address</th>\n",
              "      <th>postcode</th>\n",
              "      <th>state</th>\n",
              "      <th>country</th>\n",
              "      <th>property_valuation</th>\n",
              "      <th>customer_id</th>\n",
              "    </tr>\n",
              "  </thead>\n",
              "  <tbody>\n",
              "    <tr>\n",
              "      <th>0</th>\n",
              "      <td>Female</td>\n",
              "      <td>93.0</td>\n",
              "      <td>66.0</td>\n",
              "      <td>Executive Secretary</td>\n",
              "      <td>Health</td>\n",
              "      <td>Mass Customer</td>\n",
              "      <td>Yes</td>\n",
              "      <td>11.0</td>\n",
              "      <td>060 Morning Avenue</td>\n",
              "      <td>2016</td>\n",
              "      <td>NSW</td>\n",
              "      <td>Australia</td>\n",
              "      <td>10</td>\n",
              "      <td>1.0</td>\n",
              "    </tr>\n",
              "    <tr>\n",
              "      <th>1</th>\n",
              "      <td>Female</td>\n",
              "      <td>93.0</td>\n",
              "      <td>66.0</td>\n",
              "      <td>Executive Secretary</td>\n",
              "      <td>Health</td>\n",
              "      <td>Mass Customer</td>\n",
              "      <td>Yes</td>\n",
              "      <td>11.0</td>\n",
              "      <td>060 Morning Avenue</td>\n",
              "      <td>2016</td>\n",
              "      <td>NSW</td>\n",
              "      <td>Australia</td>\n",
              "      <td>10</td>\n",
              "      <td>1.0</td>\n",
              "    </tr>\n",
              "    <tr>\n",
              "      <th>2</th>\n",
              "      <td>Female</td>\n",
              "      <td>93.0</td>\n",
              "      <td>66.0</td>\n",
              "      <td>Executive Secretary</td>\n",
              "      <td>Health</td>\n",
              "      <td>Mass Customer</td>\n",
              "      <td>Yes</td>\n",
              "      <td>11.0</td>\n",
              "      <td>060 Morning Avenue</td>\n",
              "      <td>2016</td>\n",
              "      <td>NSW</td>\n",
              "      <td>Australia</td>\n",
              "      <td>10</td>\n",
              "      <td>1.0</td>\n",
              "    </tr>\n",
              "    <tr>\n",
              "      <th>3</th>\n",
              "      <td>Female</td>\n",
              "      <td>93.0</td>\n",
              "      <td>66.0</td>\n",
              "      <td>Executive Secretary</td>\n",
              "      <td>Health</td>\n",
              "      <td>Mass Customer</td>\n",
              "      <td>Yes</td>\n",
              "      <td>11.0</td>\n",
              "      <td>060 Morning Avenue</td>\n",
              "      <td>2016</td>\n",
              "      <td>NSW</td>\n",
              "      <td>Australia</td>\n",
              "      <td>10</td>\n",
              "      <td>1.0</td>\n",
              "    </tr>\n",
              "    <tr>\n",
              "      <th>4</th>\n",
              "      <td>Female</td>\n",
              "      <td>93.0</td>\n",
              "      <td>66.0</td>\n",
              "      <td>Executive Secretary</td>\n",
              "      <td>Health</td>\n",
              "      <td>Mass Customer</td>\n",
              "      <td>Yes</td>\n",
              "      <td>11.0</td>\n",
              "      <td>060 Morning Avenue</td>\n",
              "      <td>2016</td>\n",
              "      <td>NSW</td>\n",
              "      <td>Australia</td>\n",
              "      <td>10</td>\n",
              "      <td>1.0</td>\n",
              "    </tr>\n",
              "    <tr>\n",
              "      <th>...</th>\n",
              "      <td>...</td>\n",
              "      <td>...</td>\n",
              "      <td>...</td>\n",
              "      <td>...</td>\n",
              "      <td>...</td>\n",
              "      <td>...</td>\n",
              "      <td>...</td>\n",
              "      <td>...</td>\n",
              "      <td>...</td>\n",
              "      <td>...</td>\n",
              "      <td>...</td>\n",
              "      <td>...</td>\n",
              "      <td>...</td>\n",
              "      <td>...</td>\n",
              "    </tr>\n",
              "    <tr>\n",
              "      <th>19995</th>\n",
              "      <td>Female</td>\n",
              "      <td>71.0</td>\n",
              "      <td>53.0</td>\n",
              "      <td>Not_Applicable</td>\n",
              "      <td>Entertainment</td>\n",
              "      <td>Affluent Customer</td>\n",
              "      <td>No</td>\n",
              "      <td>17.0</td>\n",
              "      <td>9491 Green Ridge Terrace</td>\n",
              "      <td>2100</td>\n",
              "      <td>NSW</td>\n",
              "      <td>Australia</td>\n",
              "      <td>10</td>\n",
              "      <td>3500.0</td>\n",
              "    </tr>\n",
              "    <tr>\n",
              "      <th>19996</th>\n",
              "      <td>Female</td>\n",
              "      <td>71.0</td>\n",
              "      <td>53.0</td>\n",
              "      <td>Not_Applicable</td>\n",
              "      <td>Entertainment</td>\n",
              "      <td>Affluent Customer</td>\n",
              "      <td>No</td>\n",
              "      <td>17.0</td>\n",
              "      <td>9491 Green Ridge Terrace</td>\n",
              "      <td>2100</td>\n",
              "      <td>NSW</td>\n",
              "      <td>Australia</td>\n",
              "      <td>10</td>\n",
              "      <td>3500.0</td>\n",
              "    </tr>\n",
              "    <tr>\n",
              "      <th>19997</th>\n",
              "      <td>Not_Applicable</td>\n",
              "      <td>48.0</td>\n",
              "      <td>43.0</td>\n",
              "      <td>Not_Applicable</td>\n",
              "      <td>Not_Applicable</td>\n",
              "      <td>Not_Applicable</td>\n",
              "      <td>Not_Applicable</td>\n",
              "      <td>10.0</td>\n",
              "      <td>Not_Applicable</td>\n",
              "      <td>Not_Applicable</td>\n",
              "      <td>Not_Applicable</td>\n",
              "      <td>Not_Applicable</td>\n",
              "      <td>Not_Applicable</td>\n",
              "      <td>5034.0</td>\n",
              "    </tr>\n",
              "    <tr>\n",
              "      <th>19998</th>\n",
              "      <td>Not_Applicable</td>\n",
              "      <td>48.0</td>\n",
              "      <td>43.0</td>\n",
              "      <td>Not_Applicable</td>\n",
              "      <td>Not_Applicable</td>\n",
              "      <td>Not_Applicable</td>\n",
              "      <td>Not_Applicable</td>\n",
              "      <td>10.0</td>\n",
              "      <td>Not_Applicable</td>\n",
              "      <td>Not_Applicable</td>\n",
              "      <td>Not_Applicable</td>\n",
              "      <td>Not_Applicable</td>\n",
              "      <td>Not_Applicable</td>\n",
              "      <td>5034.0</td>\n",
              "    </tr>\n",
              "    <tr>\n",
              "      <th>19999</th>\n",
              "      <td>Not_Applicable</td>\n",
              "      <td>48.0</td>\n",
              "      <td>43.0</td>\n",
              "      <td>Not_Applicable</td>\n",
              "      <td>Not_Applicable</td>\n",
              "      <td>Not_Applicable</td>\n",
              "      <td>Not_Applicable</td>\n",
              "      <td>10.0</td>\n",
              "      <td>Not_Applicable</td>\n",
              "      <td>Not_Applicable</td>\n",
              "      <td>Not_Applicable</td>\n",
              "      <td>Not_Applicable</td>\n",
              "      <td>Not_Applicable</td>\n",
              "      <td>5034.0</td>\n",
              "    </tr>\n",
              "  </tbody>\n",
              "</table>\n",
              "<p>19795 rows × 14 columns</p>\n",
              "</div>"
            ],
            "text/plain": [
              "               gender  ...  customer_id\n",
              "0              Female  ...          1.0\n",
              "1              Female  ...          1.0\n",
              "2              Female  ...          1.0\n",
              "3              Female  ...          1.0\n",
              "4              Female  ...          1.0\n",
              "...               ...  ...          ...\n",
              "19995          Female  ...       3500.0\n",
              "19996          Female  ...       3500.0\n",
              "19997  Not_Applicable  ...       5034.0\n",
              "19998  Not_Applicable  ...       5034.0\n",
              "19999  Not_Applicable  ...       5034.0\n",
              "\n",
              "[19795 rows x 14 columns]"
            ]
          },
          "metadata": {
            "tags": []
          },
          "execution_count": 35
        }
      ]
    },
    {
      "cell_type": "code",
      "metadata": {
        "id": "pZaTU07a1zOT",
        "colab_type": "code",
        "colab": {}
      },
      "source": [
        "final_model_data = pd.merge(data_1, grouped_out[['c_id','clv']], left_on='customer_id', right_on = 'c_id', how = 'left')"
      ],
      "execution_count": null,
      "outputs": []
    },
    {
      "cell_type": "code",
      "metadata": {
        "id": "b6WUCA_s2oQK",
        "colab_type": "code",
        "colab": {
          "base_uri": "https://localhost:8080/",
          "height": 419
        },
        "outputId": "3fb77980-9d88-4e5b-e501-086e1eef468f"
      },
      "source": [
        "final_model_data[['c_id', 'customer_id', 'clv']]"
      ],
      "execution_count": null,
      "outputs": [
        {
          "output_type": "execute_result",
          "data": {
            "text/html": [
              "<div>\n",
              "<style scoped>\n",
              "    .dataframe tbody tr th:only-of-type {\n",
              "        vertical-align: middle;\n",
              "    }\n",
              "\n",
              "    .dataframe tbody tr th {\n",
              "        vertical-align: top;\n",
              "    }\n",
              "\n",
              "    .dataframe thead th {\n",
              "        text-align: right;\n",
              "    }\n",
              "</style>\n",
              "<table border=\"1\" class=\"dataframe\">\n",
              "  <thead>\n",
              "    <tr style=\"text-align: right;\">\n",
              "      <th></th>\n",
              "      <th>c_id</th>\n",
              "      <th>customer_id</th>\n",
              "      <th>clv</th>\n",
              "    </tr>\n",
              "  </thead>\n",
              "  <tbody>\n",
              "    <tr>\n",
              "      <th>0</th>\n",
              "      <td>1.0</td>\n",
              "      <td>1.0</td>\n",
              "      <td>27.612085</td>\n",
              "    </tr>\n",
              "    <tr>\n",
              "      <th>1</th>\n",
              "      <td>1.0</td>\n",
              "      <td>1.0</td>\n",
              "      <td>27.612085</td>\n",
              "    </tr>\n",
              "    <tr>\n",
              "      <th>2</th>\n",
              "      <td>1.0</td>\n",
              "      <td>1.0</td>\n",
              "      <td>27.612085</td>\n",
              "    </tr>\n",
              "    <tr>\n",
              "      <th>3</th>\n",
              "      <td>1.0</td>\n",
              "      <td>1.0</td>\n",
              "      <td>27.612085</td>\n",
              "    </tr>\n",
              "    <tr>\n",
              "      <th>4</th>\n",
              "      <td>1.0</td>\n",
              "      <td>1.0</td>\n",
              "      <td>27.612085</td>\n",
              "    </tr>\n",
              "    <tr>\n",
              "      <th>...</th>\n",
              "      <td>...</td>\n",
              "      <td>...</td>\n",
              "      <td>...</td>\n",
              "    </tr>\n",
              "    <tr>\n",
              "      <th>19790</th>\n",
              "      <td>3500.0</td>\n",
              "      <td>3500.0</td>\n",
              "      <td>13.682007</td>\n",
              "    </tr>\n",
              "    <tr>\n",
              "      <th>19791</th>\n",
              "      <td>3500.0</td>\n",
              "      <td>3500.0</td>\n",
              "      <td>13.682007</td>\n",
              "    </tr>\n",
              "    <tr>\n",
              "      <th>19792</th>\n",
              "      <td>5034.0</td>\n",
              "      <td>5034.0</td>\n",
              "      <td>0.374993</td>\n",
              "    </tr>\n",
              "    <tr>\n",
              "      <th>19793</th>\n",
              "      <td>5034.0</td>\n",
              "      <td>5034.0</td>\n",
              "      <td>0.374993</td>\n",
              "    </tr>\n",
              "    <tr>\n",
              "      <th>19794</th>\n",
              "      <td>5034.0</td>\n",
              "      <td>5034.0</td>\n",
              "      <td>0.374993</td>\n",
              "    </tr>\n",
              "  </tbody>\n",
              "</table>\n",
              "<p>19795 rows × 3 columns</p>\n",
              "</div>"
            ],
            "text/plain": [
              "         c_id  customer_id        clv\n",
              "0         1.0          1.0  27.612085\n",
              "1         1.0          1.0  27.612085\n",
              "2         1.0          1.0  27.612085\n",
              "3         1.0          1.0  27.612085\n",
              "4         1.0          1.0  27.612085\n",
              "...       ...          ...        ...\n",
              "19790  3500.0       3500.0  13.682007\n",
              "19791  3500.0       3500.0  13.682007\n",
              "19792  5034.0       5034.0   0.374993\n",
              "19793  5034.0       5034.0   0.374993\n",
              "19794  5034.0       5034.0   0.374993\n",
              "\n",
              "[19795 rows x 3 columns]"
            ]
          },
          "metadata": {
            "tags": []
          },
          "execution_count": 37
        }
      ]
    },
    {
      "cell_type": "code",
      "metadata": {
        "id": "n-oJgWsj6AG1",
        "colab_type": "code",
        "colab": {
          "base_uri": "https://localhost:8080/",
          "height": 34
        },
        "outputId": "fc877d4a-ff50-4662-d4c0-82ec5a41b5ca"
      },
      "source": [
        "final_model_data.drop_duplicates().shape"
      ],
      "execution_count": null,
      "outputs": [
        {
          "output_type": "execute_result",
          "data": {
            "text/plain": [
              "(3493, 16)"
            ]
          },
          "metadata": {
            "tags": []
          },
          "execution_count": 38
        }
      ]
    },
    {
      "cell_type": "code",
      "metadata": {
        "id": "bbe59Hpi7DJF",
        "colab_type": "code",
        "colab": {
          "base_uri": "https://localhost:8080/",
          "height": 102
        },
        "outputId": "becedb21-93fe-4040-ef19-ce78ecd7c187"
      },
      "source": [
        "final_model_data.columns"
      ],
      "execution_count": null,
      "outputs": [
        {
          "output_type": "execute_result",
          "data": {
            "text/plain": [
              "Index(['gender', 'past_3_years_bike_related_purchases', 'AGE', 'job_title',\n",
              "       'job_industry_category', 'wealth_segment', 'owns_car', 'tenure',\n",
              "       'address', 'postcode', 'state', 'country', 'property_valuation',\n",
              "       'customer_id', 'c_id', 'clv'],\n",
              "      dtype='object')"
            ]
          },
          "metadata": {
            "tags": []
          },
          "execution_count": 39
        }
      ]
    },
    {
      "cell_type": "code",
      "metadata": {
        "id": "cklQUX7r7Pza",
        "colab_type": "code",
        "colab": {}
      },
      "source": [
        "final_model_data = final_model_data.drop(['c_id','customer_id', 'address', 'country', 'postcode', 'job_title', 'tenure'], axis=1)"
      ],
      "execution_count": null,
      "outputs": []
    },
    {
      "cell_type": "code",
      "metadata": {
        "id": "aSnc5El672ZS",
        "colab_type": "code",
        "colab": {
          "base_uri": "https://localhost:8080/",
          "height": 34
        },
        "outputId": "ad53297e-ad23-422b-e686-3c49dd0f6497"
      },
      "source": [
        "final_model_data.shape"
      ],
      "execution_count": null,
      "outputs": [
        {
          "output_type": "execute_result",
          "data": {
            "text/plain": [
              "(19795, 9)"
            ]
          },
          "metadata": {
            "tags": []
          },
          "execution_count": 41
        }
      ]
    },
    {
      "cell_type": "code",
      "metadata": {
        "id": "fcY6YfUb8YjC",
        "colab_type": "code",
        "colab": {
          "base_uri": "https://localhost:8080/",
          "height": 85
        },
        "outputId": "7f57942e-7fe7-4083-c587-281b3909959e"
      },
      "source": [
        "final_model_data.columns"
      ],
      "execution_count": null,
      "outputs": [
        {
          "output_type": "execute_result",
          "data": {
            "text/plain": [
              "Index(['gender', 'past_3_years_bike_related_purchases', 'AGE',\n",
              "       'job_industry_category', 'wealth_segment', 'owns_car', 'state',\n",
              "       'property_valuation', 'clv'],\n",
              "      dtype='object')"
            ]
          },
          "metadata": {
            "tags": []
          },
          "execution_count": 42
        }
      ]
    },
    {
      "cell_type": "markdown",
      "metadata": {
        "id": "SPzf1_nTYDnB",
        "colab_type": "text"
      },
      "source": [
        "\n",
        "\n",
        "```\n",
        "one hot encoding\n",
        "```\n",
        "\n"
      ]
    },
    {
      "cell_type": "code",
      "metadata": {
        "id": "cYnvninbZVix",
        "colab_type": "code",
        "colab": {
          "base_uri": "https://localhost:8080/",
          "height": 187
        },
        "outputId": "454f5353-6b94-4fc0-c8e4-178bf6483534"
      },
      "source": [
        "final_model_data.dtypes"
      ],
      "execution_count": null,
      "outputs": [
        {
          "output_type": "execute_result",
          "data": {
            "text/plain": [
              "gender                                  object\n",
              "past_3_years_bike_related_purchases    float64\n",
              "AGE                                    float64\n",
              "job_industry_category                   object\n",
              "wealth_segment                          object\n",
              "owns_car                                object\n",
              "state                                   object\n",
              "property_valuation                      object\n",
              "clv                                    float64\n",
              "dtype: object"
            ]
          },
          "metadata": {
            "tags": []
          },
          "execution_count": 43
        }
      ]
    },
    {
      "cell_type": "code",
      "metadata": {
        "id": "XIHDB0ZdYxKL",
        "colab_type": "code",
        "colab": {
          "base_uri": "https://localhost:8080/",
          "height": 85
        },
        "outputId": "9f773923-597b-4c28-91dc-070045638beb"
      },
      "source": [
        "obj_final = final_model_data.select_dtypes(include='object')\n",
        "float_final = final_model_data.select_dtypes(include='float64')\n",
        "\n",
        "print(obj_final.shape)\n",
        "print(float_final.shape)\n",
        "print(final_model_data.shape)\n",
        "\n",
        "temp = obj_final.columns.to_list()\n",
        "print(temp)"
      ],
      "execution_count": null,
      "outputs": [
        {
          "output_type": "stream",
          "text": [
            "(19795, 6)\n",
            "(19795, 3)\n",
            "(19795, 9)\n",
            "['gender', 'job_industry_category', 'wealth_segment', 'owns_car', 'state', 'property_valuation']\n"
          ],
          "name": "stdout"
        }
      ]
    },
    {
      "cell_type": "code",
      "metadata": {
        "id": "A5tL0AYZbF7A",
        "colab_type": "code",
        "colab": {}
      },
      "source": [
        "temp_obj = ['gender', 'job_industry_category', 'wealth_segment', 'owns_car', 'state', 'property_valuation']"
      ],
      "execution_count": null,
      "outputs": []
    },
    {
      "cell_type": "code",
      "metadata": {
        "id": "xFa6oVvub2Zp",
        "colab_type": "code",
        "colab": {}
      },
      "source": [
        "df_encoded = pd.get_dummies(final_model_data,columns= temp_obj)\n",
        "\n",
        "#pd.concat(df_encoded, float_final)"
      ],
      "execution_count": null,
      "outputs": []
    },
    {
      "cell_type": "code",
      "metadata": {
        "id": "HZKIWfxQd5MT",
        "colab_type": "code",
        "colab": {
          "base_uri": "https://localhost:8080/",
          "height": 34
        },
        "outputId": "91bf2a4f-67e0-4018-8f44-810580fad1e8"
      },
      "source": [
        "df_encoded.shape"
      ],
      "execution_count": null,
      "outputs": [
        {
          "output_type": "execute_result",
          "data": {
            "text/plain": [
              "(19795, 41)"
            ]
          },
          "metadata": {
            "tags": []
          },
          "execution_count": 47
        }
      ]
    },
    {
      "cell_type": "code",
      "metadata": {
        "id": "AMkKnjv_cPTm",
        "colab_type": "code",
        "colab": {
          "base_uri": "https://localhost:8080/",
          "height": 391
        },
        "outputId": "6cb93e76-aabb-49e4-cfdc-9ad0a2386f6a"
      },
      "source": [
        "df_encoded.columns"
      ],
      "execution_count": null,
      "outputs": [
        {
          "output_type": "execute_result",
          "data": {
            "text/plain": [
              "Index(['past_3_years_bike_related_purchases', 'AGE', 'clv', 'gender_Female',\n",
              "       'gender_Male', 'gender_Not_Applicable', 'gender_U',\n",
              "       'job_industry_category_Argiculture',\n",
              "       'job_industry_category_Entertainment',\n",
              "       'job_industry_category_Financial Services',\n",
              "       'job_industry_category_Health', 'job_industry_category_IT',\n",
              "       'job_industry_category_Manufacturing',\n",
              "       'job_industry_category_Not_Applicable',\n",
              "       'job_industry_category_Property', 'job_industry_category_Retail',\n",
              "       'job_industry_category_Telecommunications',\n",
              "       'wealth_segment_Affluent Customer', 'wealth_segment_High Net Worth',\n",
              "       'wealth_segment_Mass Customer', 'wealth_segment_Not_Applicable',\n",
              "       'owns_car_No', 'owns_car_Not_Applicable', 'owns_car_Yes', 'state_NSW',\n",
              "       'state_Not_Applicable', 'state_QLD', 'state_VIC',\n",
              "       'property_valuation_1.0', 'property_valuation_2.0',\n",
              "       'property_valuation_3.0', 'property_valuation_4.0',\n",
              "       'property_valuation_5.0', 'property_valuation_6.0',\n",
              "       'property_valuation_7.0', 'property_valuation_8.0',\n",
              "       'property_valuation_9.0', 'property_valuation_10.0',\n",
              "       'property_valuation_11.0', 'property_valuation_12.0',\n",
              "       'property_valuation_Not_Applicable'],\n",
              "      dtype='object')"
            ]
          },
          "metadata": {
            "tags": []
          },
          "execution_count": 48
        }
      ]
    },
    {
      "cell_type": "markdown",
      "metadata": {
        "id": "iZZBOE-_8iAo",
        "colab_type": "text"
      },
      "source": [
        "\n",
        "\n",
        "```\n",
        "Train - Test split\n",
        "```\n",
        "\n"
      ]
    },
    {
      "cell_type": "code",
      "metadata": {
        "id": "-rRCXcO19gU1",
        "colab_type": "code",
        "colab": {
          "base_uri": "https://localhost:8080/",
          "height": 102
        },
        "outputId": "9a3523eb-274e-4fa1-db42-b04f39dbaa17"
      },
      "source": [
        "!pip install sklearn"
      ],
      "execution_count": null,
      "outputs": [
        {
          "output_type": "stream",
          "text": [
            "Requirement already satisfied: sklearn in /usr/local/lib/python3.6/dist-packages (0.0)\n",
            "Requirement already satisfied: scikit-learn in /usr/local/lib/python3.6/dist-packages (from sklearn) (0.22.2.post1)\n",
            "Requirement already satisfied: numpy>=1.11.0 in /usr/local/lib/python3.6/dist-packages (from scikit-learn->sklearn) (1.18.5)\n",
            "Requirement already satisfied: scipy>=0.17.0 in /usr/local/lib/python3.6/dist-packages (from scikit-learn->sklearn) (1.4.1)\n",
            "Requirement already satisfied: joblib>=0.11 in /usr/local/lib/python3.6/dist-packages (from scikit-learn->sklearn) (0.16.0)\n"
          ],
          "name": "stdout"
        }
      ]
    },
    {
      "cell_type": "code",
      "metadata": {
        "id": "zsDTewK48cdx",
        "colab_type": "code",
        "colab": {}
      },
      "source": [
        "from sklearn.model_selection import train_test_split\n",
        "\n",
        "train, test = train_test_split(df_encoded, test_size=0.2, random_state=42, shuffle=True)"
      ],
      "execution_count": null,
      "outputs": []
    },
    {
      "cell_type": "code",
      "metadata": {
        "id": "AQcjq7yv9E4D",
        "colab_type": "code",
        "colab": {
          "base_uri": "https://localhost:8080/",
          "height": 51
        },
        "outputId": "b2626458-2911-4b6b-bbc1-27cfad6e7d54"
      },
      "source": [
        "print(train.shape)\n",
        "print(test.shape)"
      ],
      "execution_count": null,
      "outputs": [
        {
          "output_type": "stream",
          "text": [
            "(15836, 41)\n",
            "(3959, 41)\n"
          ],
          "name": "stdout"
        }
      ]
    },
    {
      "cell_type": "code",
      "metadata": {
        "id": "RldiYU4M_sAh",
        "colab_type": "code",
        "colab": {
          "base_uri": "https://localhost:8080/",
          "height": 85
        },
        "outputId": "4940818e-6a58-4a4d-e315-2eb5aa4f17a9"
      },
      "source": [
        "train_y = train['clv']\n",
        "train_x = train.drop('clv', axis=1)\n",
        "\n",
        "test_y = test['clv']\n",
        "test_x = test.drop('clv', axis=1)\n",
        "\n",
        "print(train_x.shape)\n",
        "print(train_y.shape)\n",
        "\n",
        "print(test_x.shape)\n",
        "print(test_y.shape)"
      ],
      "execution_count": null,
      "outputs": [
        {
          "output_type": "stream",
          "text": [
            "(15836, 40)\n",
            "(15836,)\n",
            "(3959, 40)\n",
            "(3959,)\n"
          ],
          "name": "stdout"
        }
      ]
    },
    {
      "cell_type": "markdown",
      "metadata": {
        "id": "c38mQrW--VB_",
        "colab_type": "text"
      },
      "source": [
        "\n",
        "\n",
        "```\n",
        "Variable Selection\n",
        "Recurrsive Feature elimination\n",
        "```\n",
        "\n"
      ]
    },
    {
      "cell_type": "code",
      "metadata": {
        "id": "pEXRLQhE-TJ3",
        "colab_type": "code",
        "colab": {
          "base_uri": "https://localhost:8080/",
          "height": 306
        },
        "outputId": "12e4a7c7-bf6a-4d54-eecc-904e8c75870d"
      },
      "source": [
        "from sklearn.linear_model import LinearRegression\n",
        "from sklearn.feature_selection import RFE\n",
        "from sklearn.linear_model import LassoCV\n",
        "\n",
        "model = LinearRegression()\n",
        "#Initializing RFE model\n",
        "rfe = RFE(model, 20)\n",
        "\n",
        "#Transforming data using RFE\n",
        "X_rfe = rfe.fit_transform(train_x,train_y)\n",
        "\n",
        "#Fitting the data to model\n",
        "model.fit(X_rfe,train_y)\n",
        "\n",
        "print(rfe.support_)\n",
        "print(rfe.ranking_)\n",
        "\n",
        "cols = list(train_x.columns)\n",
        "\n",
        "temp = pd.Series(rfe.support_,index = cols)\n",
        "selected_features_rfe = temp[temp==True].index\n",
        "print(selected_features_rfe)"
      ],
      "execution_count": null,
      "outputs": [
        {
          "output_type": "stream",
          "text": [
            "[False False  True  True  True  True  True  True False  True False False\n",
            "  True  True  True False False False  True  True False  True False False\n",
            " False False False  True False False  True  True False  True  True False\n",
            " False  True  True False]\n",
            "[21 10  1  1  1  1  1  1  5  1  4  8  1  1  1 19 16  2  1  1 17  1  3 18\n",
            " 15  6 11  1  9 20  1  1 14  1  1 13  7  1  1 12]\n",
            "Index(['gender_Female', 'gender_Male', 'gender_Not_Applicable', 'gender_U',\n",
            "       'job_industry_category_Argiculture',\n",
            "       'job_industry_category_Entertainment', 'job_industry_category_Health',\n",
            "       'job_industry_category_Not_Applicable',\n",
            "       'job_industry_category_Property', 'job_industry_category_Retail',\n",
            "       'wealth_segment_Mass Customer', 'wealth_segment_Not_Applicable',\n",
            "       'owns_car_Not_Applicable', 'property_valuation_1.0',\n",
            "       'property_valuation_4.0', 'property_valuation_5.0',\n",
            "       'property_valuation_7.0', 'property_valuation_8.0',\n",
            "       'property_valuation_11.0', 'property_valuation_12.0'],\n",
            "      dtype='object')\n"
          ],
          "name": "stdout"
        }
      ]
    },
    {
      "cell_type": "code",
      "metadata": {
        "id": "xcdJL8dDGGRU",
        "colab_type": "code",
        "colab": {
          "base_uri": "https://localhost:8080/",
          "height": 221
        },
        "outputId": "a24ad26c-bc53-4c64-fb0a-45fd6520f16e"
      },
      "source": [
        "reg = LassoCV()\n",
        "reg.fit(train_x, train_y)\n",
        "print(\"Best alpha using built-in LassoCV: %f\" % reg.alpha_)\n",
        "print(\"Best score using built-in LassoCV: %f\" %reg.score(train_x,train_y))\n",
        "coef = pd.Series(reg.coef_, index = cols)\n",
        "\n",
        "importance = np.abs(reg.coef_)\n",
        "print(importance)\n",
        "\n",
        "#print(\"Lasso picked \" + str(sum(coef != 0)) + \" variables and eliminated the other \" +  str(sum(coef == 0)) + \" variables\")"
      ],
      "execution_count": null,
      "outputs": [
        {
          "output_type": "stream",
          "text": [
            "Best alpha using built-in LassoCV: 0.033610\n",
            "Best score using built-in LassoCV: 0.062650\n",
            "[5.27199943e-03 5.20104601e-01 0.00000000e+00 1.65139984e-01\n",
            " 0.00000000e+00 6.65526730e+01 3.25889724e+00 5.00425396e+00\n",
            " 0.00000000e+00 1.07238555e+00 8.13039121e-01 0.00000000e+00\n",
            " 2.12616648e+00 1.11640867e+00 2.11842716e+00 0.00000000e+00\n",
            " 7.41189826e-01 0.00000000e+00 2.32803504e-01 0.00000000e+00\n",
            " 0.00000000e+00 0.00000000e+00 7.53533476e-01 0.00000000e+00\n",
            " 0.00000000e+00 6.34330176e-01 2.11708597e-01 1.01555639e+00\n",
            " 9.44234684e-02 0.00000000e+00 2.58513744e+00 3.97536594e+00\n",
            " 0.00000000e+00 2.02617864e+00 1.42821704e+00 1.86034384e-01\n",
            " 1.30922127e+00 1.08916524e+00 4.61069386e+00 0.00000000e+00]\n"
          ],
          "name": "stdout"
        }
      ]
    },
    {
      "cell_type": "code",
      "metadata": {
        "id": "YrwKaZM-flfg",
        "colab_type": "code",
        "colab": {}
      },
      "source": [
        "#imp_coef = coef.sort_values()\n",
        "#import matplotlib.pyplot as plt\n",
        "#import matplotlib\n",
        "\n",
        "#matplotlib.rcParams['figure.figsize'] = (8.0, 10.0)\n",
        "#imp_coef.plot(kind = \"barh\")\n",
        "#plt.title(\"Feature importance using Lasso Model\")"
      ],
      "execution_count": null,
      "outputs": []
    },
    {
      "cell_type": "code",
      "metadata": {
        "id": "bwCZ-ZIsUbW-",
        "colab_type": "code",
        "colab": {}
      },
      "source": [
        "cols_to_model = ['gender_Female', 'gender_Male', 'gender_Not_Applicable', 'gender_U',\n",
        "       'job_industry_category_Argiculture',\n",
        "       'job_industry_category_Entertainment', 'job_industry_category_Health',\n",
        "       'job_industry_category_Not_Applicable',\n",
        "       'job_industry_category_Property', 'job_industry_category_Retail',\n",
        "       'wealth_segment_Mass Customer', 'wealth_segment_Not_Applicable',\n",
        "       'owns_car_Not_Applicable', 'property_valuation_1.0',\n",
        "       'property_valuation_4.0', 'property_valuation_5.0',\n",
        "       'property_valuation_7.0', 'property_valuation_8.0',\n",
        "       'property_valuation_11.0', 'property_valuation_12.0']"
      ],
      "execution_count": null,
      "outputs": []
    },
    {
      "cell_type": "code",
      "metadata": {
        "id": "pPV2K5p5Vewh",
        "colab_type": "code",
        "colab": {}
      },
      "source": [
        "model_data = train_x[cols_to_model]"
      ],
      "execution_count": null,
      "outputs": []
    },
    {
      "cell_type": "code",
      "metadata": {
        "id": "GKQqQxqpVj7Y",
        "colab_type": "code",
        "colab": {
          "base_uri": "https://localhost:8080/",
          "height": 34
        },
        "outputId": "49796484-5549-4069-83eb-1b26d2e4c2dd"
      },
      "source": [
        "model_data.shape"
      ],
      "execution_count": null,
      "outputs": [
        {
          "output_type": "execute_result",
          "data": {
            "text/plain": [
              "(15836, 20)"
            ]
          },
          "metadata": {
            "tags": []
          },
          "execution_count": 70
        }
      ]
    },
    {
      "cell_type": "markdown",
      "metadata": {
        "id": "mrQ4GZZJVznZ",
        "colab_type": "text"
      },
      "source": [
        "\n",
        "\n",
        "```\n",
        "Linear Regression\n",
        "```\n",
        "\n"
      ]
    },
    {
      "cell_type": "code",
      "metadata": {
        "id": "kjyWdG0UWICT",
        "colab_type": "code",
        "colab": {}
      },
      "source": [
        "from sklearn.model_selection import cross_val_score\n",
        "# function to get cross validation scores\n",
        "def get_cv_scores(model, X, y):\n",
        "    scores = cross_val_score(model,X,y,cv=5,scoring='r2')\n",
        "    \n",
        "    print('CV Mean: ', np.mean(scores))\n",
        "    print('STD: ', np.std(scores))\n",
        "    print('\\n')"
      ],
      "execution_count": null,
      "outputs": []
    },
    {
      "cell_type": "code",
      "metadata": {
        "id": "Q6DVEb19VpYh",
        "colab_type": "code",
        "colab": {
          "base_uri": "https://localhost:8080/",
          "height": 85
        },
        "outputId": "49220ee1-19a8-4421-92cd-8bb9b5847701"
      },
      "source": [
        "from sklearn.linear_model import LinearRegression\n",
        "\n",
        "# Train model\n",
        "lr = LinearRegression().fit(model_data, train_y)\n",
        "\n",
        "# get cross val scores\n",
        "get_cv_scores(lr, model_data , train_y)\n"
      ],
      "execution_count": null,
      "outputs": [
        {
          "output_type": "stream",
          "text": [
            "CV Mean:  -1.7016146512821195e+21\n",
            "STD:  3.403229302564239e+21\n",
            "\n",
            "\n"
          ],
          "name": "stdout"
        }
      ]
    },
    {
      "cell_type": "code",
      "metadata": {
        "id": "jB6qoEP1WDB6",
        "colab_type": "code",
        "colab": {
          "base_uri": "https://localhost:8080/",
          "height": 85
        },
        "outputId": "62f7a929-3e27-4448-a188-fc3dbcb9a29b"
      },
      "source": [
        "from sklearn.linear_model import Ridge\n",
        "# Train model with default alpha=1\n",
        "ridge = Ridge(alpha=1).fit(model_data, train_y)\n",
        "# get cross val scores\n",
        "get_cv_scores(ridge, model_data, train_y)"
      ],
      "execution_count": null,
      "outputs": [
        {
          "output_type": "stream",
          "text": [
            "CV Mean:  0.021347720294256668\n",
            "STD:  0.0033234062843063216\n",
            "\n",
            "\n"
          ],
          "name": "stdout"
        }
      ]
    },
    {
      "cell_type": "code",
      "metadata": {
        "id": "b2qlTVakWnA8",
        "colab_type": "code",
        "colab": {
          "base_uri": "https://localhost:8080/",
          "height": 102
        },
        "outputId": "dc2cab5c-22ae-4f98-e325-b261339106cf"
      },
      "source": [
        "from sklearn.model_selection import learning_curve, GridSearchCV\n",
        "\n",
        "# find optimal alpha with grid search\n",
        "alpha = [0.001, 0.01, 0.1, 1, 10, 100, 1000]\n",
        "param_grid = dict(alpha=alpha)\n",
        "grid = GridSearchCV(estimator=ridge, param_grid=param_grid, scoring='r2', verbose=1, n_jobs=-1)\n",
        "grid_result = grid.fit(model_data, train_y)\n",
        "print('Best Score: ', grid_result.best_score_)\n",
        "print('Best Params: ', grid_result.best_params_)"
      ],
      "execution_count": null,
      "outputs": [
        {
          "output_type": "stream",
          "text": [
            "Fitting 5 folds for each of 7 candidates, totalling 35 fits\n"
          ],
          "name": "stdout"
        },
        {
          "output_type": "stream",
          "text": [
            "[Parallel(n_jobs=-1)]: Using backend LokyBackend with 2 concurrent workers.\n"
          ],
          "name": "stderr"
        },
        {
          "output_type": "stream",
          "text": [
            "Best Score:  0.021367511970068875\n",
            "Best Params:  {'alpha': 10}\n"
          ],
          "name": "stdout"
        },
        {
          "output_type": "stream",
          "text": [
            "[Parallel(n_jobs=-1)]: Done  35 out of  35 | elapsed:    1.8s finished\n"
          ],
          "name": "stderr"
        }
      ]
    },
    {
      "cell_type": "code",
      "metadata": {
        "id": "lGVJdQBtWvpb",
        "colab_type": "code",
        "colab": {
          "base_uri": "https://localhost:8080/",
          "height": 85
        },
        "outputId": "1042c600-d706-461b-d367-2881e0dba1e9"
      },
      "source": [
        "from sklearn.linear_model import Ridge\n",
        "# Train model with default alpha=1\n",
        "ridge = Ridge(alpha=10).fit(model_data, train_y)\n",
        "# get cross val scores\n",
        "get_cv_scores(ridge, model_data, train_y)"
      ],
      "execution_count": null,
      "outputs": [
        {
          "output_type": "stream",
          "text": [
            "CV Mean:  0.021367511970068854\n",
            "STD:  0.0032691156958411156\n",
            "\n",
            "\n"
          ],
          "name": "stdout"
        }
      ]
    },
    {
      "cell_type": "code",
      "metadata": {
        "id": "Q92Ua-xTXH7y",
        "colab_type": "code",
        "colab": {
          "base_uri": "https://localhost:8080/",
          "height": 85
        },
        "outputId": "5762de17-f50e-4811-a8c3-181350b8e79d"
      },
      "source": [
        "from sklearn.linear_model import Lasso\n",
        "# Train model with default alpha=1\n",
        "lasso = Lasso(alpha=1).fit(model_data, train_y)\n",
        "# get cross val scores\n",
        "get_cv_scores(lasso, model_data, train_y)"
      ],
      "execution_count": null,
      "outputs": [
        {
          "output_type": "stream",
          "text": [
            "CV Mean:  -0.00019422398921347116\n",
            "STD:  0.00023586671564865025\n",
            "\n",
            "\n"
          ],
          "name": "stdout"
        }
      ]
    },
    {
      "cell_type": "code",
      "metadata": {
        "id": "_ZVnqqN8XWQE",
        "colab_type": "code",
        "colab": {}
      },
      "source": [
        ""
      ],
      "execution_count": null,
      "outputs": []
    }
  ]
}